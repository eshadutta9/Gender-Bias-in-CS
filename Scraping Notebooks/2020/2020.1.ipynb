{
 "cells": [
  {
   "cell_type": "code",
   "execution_count": 1,
   "id": "0fd56098-aa52-4688-815a-181f67f4be91",
   "metadata": {},
   "outputs": [],
   "source": [
    "from linkedin_api import Linkedin\n",
    "import pandas as pd\n",
    "import time"
   ]
  },
  {
   "cell_type": "code",
   "execution_count": 2,
   "id": "a1300b5f-5570-419e-a7fd-2095be99b941",
   "metadata": {},
   "outputs": [],
   "source": [
    "username = ''\n",
    "password = ''\n",
    "\n",
    "# Authenticate using any Linkedin user account credentials\n",
    "api = Linkedin(username, password)"
   ]
  },
  {
   "cell_type": "code",
   "execution_count": 3,
   "id": "bb16904b-8c3c-4b5e-9300-07c59403dd44",
   "metadata": {},
   "outputs": [],
   "source": [
    "ranges = [\n",
    "  [1663160184, 1740445051],\n",
    "  [1740445052, 1817729919],\n",
    "  [1817729920, 1895014787],\n",
    "  [1895014788, 1972299655],\n",
    "  [1972299656, 2049584523],\n",
    "  [2049584524, 2126869391],\n",
    "  [2126869392, 2204154259],\n",
    "  [2204154260, 2281439127],\n",
    "  [2281439128, 2358723995],\n",
    "  [2358723996, 2465968992]\n",
    "]"
   ]
  },
  {
   "cell_type": "code",
   "execution_count": null,
   "id": "9aa968b4-2b26-40c0-bec1-33964324a8ff",
   "metadata": {},
   "outputs": [],
   "source": [
    "all_jobs_2020 = []\n",
    "jobs_not_found_2020 = []"
   ]
  },
  {
   "cell_type": "code",
   "execution_count": null,
   "id": "df1c2d4a-36a0-4eae-bee0-df2ec9452a89",
   "metadata": {},
   "outputs": [],
   "source": [
    "max_job_id_2020 = 1740445051\n",
    "min_job_id_2020 = 1663160184\n",
    "\n",
    "for job in range(start, end, -1):\n",
    "    try:\n",
    "        job = api.get_job(job)\n",
    "        year = pd.to_datetime(job['listedAt'], unit='ms').year \n",
    "        print(job['dashEntityUrn'], pd.to_datetime(job['listedAt'], unit='ms'))\n",
    "        # if year == 2020:\n",
    "        #     end_2020 = job\n",
    "        #     break\n",
    "    except:\n",
    "        pass"
   ]
  },
  {
   "cell_type": "code",
   "execution_count": null,
   "id": "1504577f-34c3-4c95-8c83-d2566aa4a871",
   "metadata": {},
   "outputs": [],
   "source": [
    "print(len(all_jobs_2020))\n",
    "print(len(jobs_not_found_2020))"
   ]
  },
  {
   "cell_type": "code",
   "execution_count": null,
   "id": "0f29b95a-0c4b-481d-a425-8d2ae49d58d9",
   "metadata": {},
   "outputs": [],
   "source": [
    "df = pd.DataFrame(all_jobs_2020)\n",
    "df.to_csv('data_2020/data_2020_10.csv')"
   ]
  },
  {
   "cell_type": "code",
   "execution_count": null,
   "id": "5aefbeb6-0526-4101-b9bb-728bb5c6e535",
   "metadata": {},
   "outputs": [],
   "source": []
  }
 ],
 "metadata": {
  "kernelspec": {
   "display_name": "myenv",
   "language": "python",
   "name": "myenv"
  },
  "language_info": {
   "codemirror_mode": {
    "name": "ipython",
    "version": 3
   },
   "file_extension": ".py",
   "mimetype": "text/x-python",
   "name": "python",
   "nbconvert_exporter": "python",
   "pygments_lexer": "ipython3",
   "version": "3.12.2"
  }
 },
 "nbformat": 4,
 "nbformat_minor": 5
}
