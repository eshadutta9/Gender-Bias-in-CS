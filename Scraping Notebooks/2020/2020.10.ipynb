{
 "cells": [
  {
   "cell_type": "code",
   "execution_count": null,
   "id": "f1330cd6-8817-46e6-b0eb-4e647f100a44",
   "metadata": {},
   "outputs": [],
   "source": [
    "from linkedin_api import Linkedin\n",
    "import pandas as pd\n",
    "import time"
   ]
  },
  {
   "cell_type": "code",
   "execution_count": null,
   "id": "f3fd8141-f2ba-4daa-b29d-d206e795f5e1",
   "metadata": {},
   "outputs": [],
   "source": [
    "username = ''\n",
    "password = ''\n",
    "\n",
    "# Authenticate using any Linkedin user account credentials\n",
    "api = Linkedin(username, password)"
   ]
  },
  {
   "cell_type": "code",
   "execution_count": null,
   "id": "edc23dec-8003-44a9-b172-e8ca9c8ca4ef",
   "metadata": {},
   "outputs": [],
   "source": [
    "ranges = [\n",
    "  [1663160184, 1740445051],\n",
    "  [1740445052, 1817729919],\n",
    "  [1817729920, 1895014787],\n",
    "  [1895014788, 1972299655],\n",
    "  [1972299656, 2049584523],\n",
    "  [2049584524, 2126869391],\n",
    "  [2126869392, 2204154259],\n",
    "  [2204154260, 2281439127],\n",
    "  [2281439128, 2358723995],\n",
    "  [2358723996, 2465968992]\n",
    "]"
   ]
  },
  {
   "cell_type": "code",
   "execution_count": 4,
   "id": "d0bb4537-5236-4385-8be9-eaff3d486d3f",
   "metadata": {},
   "outputs": [],
   "source": [
    "all_jobs_2020 = []\n",
    "jobs_not_found_2020 = []"
   ]
  },
  {
   "cell_type": "code",
   "execution_count": null,
   "id": "b2461569-35de-4716-865b-2513dca081fb",
   "metadata": {},
   "outputs": [],
   "source": [
    "max_job_id_2020 = 2465968992\n",
    "min_job_id_2020 = 2358723996\n",
    "\n",
    "for job_id in range(max_job_id_2020, min_job_id_2020, -6):\n",
    "  try:\n",
    "    job = api.get_job(job_id)\n",
    "    job['year'] = pd.to_datetime(job['listedAt'], unit='ms').year\n",
    "    all_jobs_2020.append(job)\n",
    "    df = pd.DataFrame(all_jobs_2020)\n",
    "    df.to_csv('data_2020/data_2020_10.csv')\n",
    "    if job_id < min_job_id_2020:\n",
    "      print(\"finished\")\n",
    "      break\n",
    "  except Exception as e:\n",
    "    jobs_not_found_2020.append(job_id)"
   ]
  },
  {
   "cell_type": "code",
   "execution_count": null,
   "id": "7382469b-aafb-48e2-9312-99cad5f8178f",
   "metadata": {},
   "outputs": [],
   "source": [
    "print(len(all_jobs_2020))\n",
    "print(len(jobs_not_found_2020))"
   ]
  },
  {
   "cell_type": "code",
   "execution_count": null,
   "id": "d03e366e-5a8d-4f09-b848-76f93b322f11",
   "metadata": {},
   "outputs": [],
   "source": [
    "df = pd.DataFrame(all_jobs_2020)\n",
    "df.to_csv('data_2020/data_2020_10.csv')"
   ]
  },
  {
   "cell_type": "code",
   "execution_count": null,
   "id": "51b7b3c8-97f8-46f5-961b-078ac7f36ec5",
   "metadata": {},
   "outputs": [],
   "source": []
  }
 ],
 "metadata": {
  "kernelspec": {
   "display_name": "myenv",
   "language": "python",
   "name": "myenv"
  },
  "language_info": {
   "codemirror_mode": {
    "name": "ipython",
    "version": 3
   },
   "file_extension": ".py",
   "mimetype": "text/x-python",
   "name": "python",
   "nbconvert_exporter": "python",
   "pygments_lexer": "ipython3",
   "version": "3.12.2"
  }
 },
 "nbformat": 4,
 "nbformat_minor": 5
}
