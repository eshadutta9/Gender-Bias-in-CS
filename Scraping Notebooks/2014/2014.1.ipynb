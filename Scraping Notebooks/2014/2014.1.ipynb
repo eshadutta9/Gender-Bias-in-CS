{
 "cells": [
  {
   "cell_type": "code",
   "execution_count": 6,
   "id": "511c3088-c82b-4163-9f29-31287b5a8366",
   "metadata": {},
   "outputs": [],
   "source": [
    "from linkedin_api import Linkedin\n",
    "import pandas as pd\n",
    "import time"
   ]
  },
  {
   "cell_type": "code",
   "execution_count": 7,
   "id": "1399188f-463e-433c-a09c-b9b9fd1adabe",
   "metadata": {},
   "outputs": [
    {
     "ename": "LinkedinSessionExpired",
     "evalue": "",
     "output_type": "error",
     "traceback": [
      "\u001b[1;31m---------------------------------------------------------------------------\u001b[0m",
      "\u001b[1;31mLinkedinSessionExpired\u001b[0m                    Traceback (most recent call last)",
      "Cell \u001b[1;32mIn[7], line 5\u001b[0m\n\u001b[0;32m      2\u001b[0m password \u001b[38;5;241m=\u001b[39m \u001b[38;5;124m'\u001b[39m\u001b[38;5;124mx$uJJ5B#*7P3rvq\u001b[39m\u001b[38;5;124m'\u001b[39m\n\u001b[0;32m      4\u001b[0m \u001b[38;5;66;03m# Authenticate using any Linkedin user account credentials\u001b[39;00m\n\u001b[1;32m----> 5\u001b[0m api \u001b[38;5;241m=\u001b[39m \u001b[43mLinkedin\u001b[49m\u001b[43m(\u001b[49m\u001b[43musername\u001b[49m\u001b[43m,\u001b[49m\u001b[43m \u001b[49m\u001b[43mpassword\u001b[49m\u001b[43m)\u001b[49m\n",
      "File \u001b[1;32m~\\AppData\\Local\\Programs\\Python\\Python312\\Lib\\site-packages\\linkedin_api\\linkedin.py:82\u001b[0m, in \u001b[0;36mLinkedin.__init__\u001b[1;34m(self, username, password, authenticate, refresh_cookies, debug, proxies, cookies, cookies_dir)\u001b[0m\n\u001b[0;32m     80\u001b[0m     \u001b[38;5;28mself\u001b[39m\u001b[38;5;241m.\u001b[39mclient\u001b[38;5;241m.\u001b[39m_set_session_cookies(cookies)\n\u001b[0;32m     81\u001b[0m \u001b[38;5;28;01melse\u001b[39;00m:\n\u001b[1;32m---> 82\u001b[0m     \u001b[38;5;28;43mself\u001b[39;49m\u001b[38;5;241;43m.\u001b[39;49m\u001b[43mclient\u001b[49m\u001b[38;5;241;43m.\u001b[39;49m\u001b[43mauthenticate\u001b[49m\u001b[43m(\u001b[49m\u001b[43musername\u001b[49m\u001b[43m,\u001b[49m\u001b[43m \u001b[49m\u001b[43mpassword\u001b[49m\u001b[43m)\u001b[49m\n",
      "File \u001b[1;32m~\\AppData\\Local\\Programs\\Python\\Python312\\Lib\\site-packages\\linkedin_api\\client.py:94\u001b[0m, in \u001b[0;36mClient.authenticate\u001b[1;34m(self, username, password)\u001b[0m\n\u001b[0;32m     92\u001b[0m \u001b[38;5;28;01mif\u001b[39;00m \u001b[38;5;28mself\u001b[39m\u001b[38;5;241m.\u001b[39m_use_cookie_cache:\n\u001b[0;32m     93\u001b[0m     \u001b[38;5;28mself\u001b[39m\u001b[38;5;241m.\u001b[39mlogger\u001b[38;5;241m.\u001b[39mdebug(\u001b[38;5;124m\"\u001b[39m\u001b[38;5;124mAttempting to use cached cookies\u001b[39m\u001b[38;5;124m\"\u001b[39m)\n\u001b[1;32m---> 94\u001b[0m     cookies \u001b[38;5;241m=\u001b[39m \u001b[38;5;28;43mself\u001b[39;49m\u001b[38;5;241;43m.\u001b[39;49m\u001b[43m_cookie_repository\u001b[49m\u001b[38;5;241;43m.\u001b[39;49m\u001b[43mget\u001b[49m\u001b[43m(\u001b[49m\u001b[43musername\u001b[49m\u001b[43m)\u001b[49m\n\u001b[0;32m     95\u001b[0m     \u001b[38;5;28;01mif\u001b[39;00m cookies:\n\u001b[0;32m     96\u001b[0m         \u001b[38;5;28mself\u001b[39m\u001b[38;5;241m.\u001b[39mlogger\u001b[38;5;241m.\u001b[39mdebug(\u001b[38;5;124m\"\u001b[39m\u001b[38;5;124mUsing cached cookies\u001b[39m\u001b[38;5;124m\"\u001b[39m)\n",
      "File \u001b[1;32m~\\AppData\\Local\\Programs\\Python\\Python312\\Lib\\site-packages\\linkedin_api\\cookie_repository.py:38\u001b[0m, in \u001b[0;36mCookieRepository.get\u001b[1;34m(self, username)\u001b[0m\n\u001b[0;32m     36\u001b[0m cookies \u001b[38;5;241m=\u001b[39m \u001b[38;5;28mself\u001b[39m\u001b[38;5;241m.\u001b[39m_load_cookies_from_cache(username)\n\u001b[0;32m     37\u001b[0m \u001b[38;5;28;01mif\u001b[39;00m cookies \u001b[38;5;129;01mand\u001b[39;00m \u001b[38;5;129;01mnot\u001b[39;00m CookieRepository\u001b[38;5;241m.\u001b[39m_is_token_still_valid(cookies):\n\u001b[1;32m---> 38\u001b[0m     \u001b[38;5;28;01mraise\u001b[39;00m LinkedinSessionExpired\n\u001b[0;32m     40\u001b[0m \u001b[38;5;28;01mreturn\u001b[39;00m cookies\n",
      "\u001b[1;31mLinkedinSessionExpired\u001b[0m: "
     ]
    }
   ],
   "source": [
    "username = ''\n",
    "password = ''\n",
    "\n",
    "# Authenticate using any Linkedin user account credentials\n",
    "api = Linkedin(username, password)"
   ]
  },
  {
   "cell_type": "code",
   "execution_count": 3,
   "id": "87a5b7ea-5c25-4e78-bb2b-73ea6e82f269",
   "metadata": {},
   "outputs": [],
   "source": [
    "ranges = [\n",
    "    [9956579, 11795657],\n",
    "    [11795658, 13634735],\n",
    "    [13634736, 15473813],\n",
    "    [15473814, 17312891],\n",
    "    [17312892, 19151969],\n",
    "    [19151970, 20991047],\n",
    "    [20991048, 22830125],\n",
    "    [22830126, 24669203],\n",
    "    [24669204, 26508281],\n",
    "    [26508282, 27464579]\n",
    "]"
   ]
  },
  {
   "cell_type": "code",
   "execution_count": 4,
   "id": "2b68fb7e-fb30-40ad-918d-d895a4c2eba9",
   "metadata": {},
   "outputs": [],
   "source": [
    "all_jobs_2014 = []\n",
    "jobs_not_found_2014 = []"
   ]
  },
  {
   "cell_type": "code",
   "execution_count": null,
   "id": "c8446241-80cc-4460-8cc6-fa93180cd211",
   "metadata": {},
   "outputs": [],
   "source": [
    "max_job_id_2014 = 11491145\n",
    "min_job_id_2014 = 9956579\n",
    "for job_id in range(max_job_id_2014, min_job_id_2014, -6):\n",
    "    try:\n",
    "        job = api.get_job(job_id)\n",
    "        # job['year'] = pd.to_datetime(job['listedAt'], unit='ms').year\n",
    "        all_jobs_2014.append(job)\n",
    "        df = pd.DataFrame(all_jobs_2014)\n",
    "        df.to_csv('data_2014/data_2014_1.csv')\n",
    "        if job_id < min_job_id_2014:\n",
    "            print(\"finished\")\n",
    "            break\n",
    "    except Exception as e:\n",
    "        jobs_not_found_2014.append(job_id)"
   ]
  },
  {
   "cell_type": "code",
   "execution_count": null,
   "id": "b86d81fe-7fe4-49b6-bc87-a4b2b805b0d2",
   "metadata": {},
   "outputs": [],
   "source": []
  }
 ],
 "metadata": {
  "kernelspec": {
   "display_name": "Python 3 (ipykernel)",
   "language": "python",
   "name": "python3"
  },
  "language_info": {
   "codemirror_mode": {
    "name": "ipython",
    "version": 3
   },
   "file_extension": ".py",
   "mimetype": "text/x-python",
   "name": "python",
   "nbconvert_exporter": "python",
   "pygments_lexer": "ipython3",
   "version": "3.12.1"
  }
 },
 "nbformat": 4,
 "nbformat_minor": 5
}
