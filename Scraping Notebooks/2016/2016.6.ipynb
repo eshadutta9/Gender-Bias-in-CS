{
 "cells": [
  {
   "cell_type": "code",
   "execution_count": 1,
   "id": "511c3088-c82b-4163-9f29-31287b5a8366",
   "metadata": {},
   "outputs": [
    {
     "name": "stderr",
     "output_type": "stream",
     "text": [
      "C:\\Users\\eshad\\AppData\\Local\\Temp\\ipykernel_35432\\1765058335.py:2: DeprecationWarning: \n",
      "Pyarrow will become a required dependency of pandas in the next major release of pandas (pandas 3.0),\n",
      "(to allow more performant data types, such as the Arrow string type, and better interoperability with other libraries)\n",
      "but was not found to be installed on your system.\n",
      "If this would cause problems for you,\n",
      "please provide us feedback at https://github.com/pandas-dev/pandas/issues/54466\n",
      "        \n",
      "  import pandas as pd\n"
     ]
    }
   ],
   "source": [
    "from linkedin_api import Linkedin\n",
    "import pandas as pd\n",
    "import time"
   ]
  },
  {
   "cell_type": "code",
   "execution_count": 2,
   "id": "1399188f-463e-433c-a09c-b9b9fd1adabe",
   "metadata": {},
   "outputs": [],
   "source": [
    "username = ''\n",
    "password = ''\n",
    "\n",
    "# Authenticate using any Linkedin user account credentials\n",
    "api = Linkedin(username, password)"
   ]
  },
  {
   "cell_type": "code",
   "execution_count": 3,
   "id": "87a5b7ea-5c25-4e78-bb2b-73ea6e82f269",
   "metadata": {},
   "outputs": [],
   "source": [
    "ranges = [\n",
    "    [102164579, 117114584],\n",
    "    [117114585, 132064590],\n",
    "    [132064591, 147014596],\n",
    "    [147014597, 161964602],\n",
    "    [161964603, 176914608],\n",
    "    [176914609, 191864614],\n",
    "    [191864615, 206814620],\n",
    "    [206814621, 221764626],\n",
    "    [221764627, 236714632],\n",
    "    [236714633, 252165626]\n",
    "]"
   ]
  },
  {
   "cell_type": "code",
   "execution_count": 4,
   "id": "2b68fb7e-fb30-40ad-918d-d895a4c2eba9",
   "metadata": {},
   "outputs": [],
   "source": [
    "all_jobs_2016 = []\n",
    "jobs_not_found_2016 = []"
   ]
  },
  {
   "cell_type": "code",
   "execution_count": null,
   "id": "c8446241-80cc-4460-8cc6-fa93180cd211",
   "metadata": {},
   "outputs": [],
   "source": [
    "max_job_id_2016 = 191598916\n",
    "min_job_id_2016 = 176914609\n",
    "for job_id in range(max_job_id_2016, min_job_id_2016, -6):\n",
    "    try:\n",
    "        job = api.get_job(job_id)\n",
    "        # job['year'] = pd.to_datetime(job['listedAt'], unit='ms').year\n",
    "        all_jobs_2016.append(job)\n",
    "        df = pd.DataFrame(all_jobs_2016)\n",
    "        df.to_csv('data_2016/data_2016_6.csv')\n",
    "        if job_id < min_job_id_2016:\n",
    "            print(\"finished\")\n",
    "            break\n",
    "    except Exception as e:\n",
    "        jobs_not_found_2016.append(job_id)"
   ]
  },
  {
   "cell_type": "code",
   "execution_count": null,
   "id": "a89dba53-16e0-43e5-9da1-9b0d4a9fe8f4",
   "metadata": {},
   "outputs": [],
   "source": []
  }
 ],
 "metadata": {
  "kernelspec": {
   "display_name": "Python 3 (ipykernel)",
   "language": "python",
   "name": "python3"
  },
  "language_info": {
   "codemirror_mode": {
    "name": "ipython",
    "version": 3
   },
   "file_extension": ".py",
   "mimetype": "text/x-python",
   "name": "python",
   "nbconvert_exporter": "python",
   "pygments_lexer": "ipython3",
   "version": "3.12.1"
  }
 },
 "nbformat": 4,
 "nbformat_minor": 5
}
