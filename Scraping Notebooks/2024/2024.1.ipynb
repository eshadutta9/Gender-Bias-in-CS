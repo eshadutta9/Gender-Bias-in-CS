{
 "cells": [
  {
   "cell_type": "code",
   "execution_count": 1,
   "id": "57f036e4-a9cf-4baa-b3b3-fce1ff424427",
   "metadata": {},
   "outputs": [
    {
     "name": "stderr",
     "output_type": "stream",
     "text": [
      "C:\\Users\\eshad\\AppData\\Local\\Temp\\ipykernel_22088\\1765058335.py:2: DeprecationWarning: \n",
      "Pyarrow will become a required dependency of pandas in the next major release of pandas (pandas 3.0),\n",
      "(to allow more performant data types, such as the Arrow string type, and better interoperability with other libraries)\n",
      "but was not found to be installed on your system.\n",
      "If this would cause problems for you,\n",
      "please provide us feedback at https://github.com/pandas-dev/pandas/issues/54466\n",
      "        \n",
      "  import pandas as pd\n"
     ]
    }
   ],
   "source": [
    "from linkedin_api import Linkedin\n",
    "import pandas as pd\n",
    "import time"
   ]
  },
  {
   "cell_type": "code",
   "execution_count": 2,
   "id": "ffe33f1b-2b12-47e0-a336-9be3cb77816e",
   "metadata": {},
   "outputs": [],
   "source": [
    "ranges = [\n",
    "    [3796434325, 3824907613],\n",
    "    [3824907614, 3853380902],\n",
    "    [3853380903, 3881854191],\n",
    "    [3881854192, 3910327480],\n",
    "    [3910327481, 3938800769],\n",
    "    [3938800770, 3967274058],\n",
    "    [3967274059, 3995747347],\n",
    "    [3995747348, 4024220636],\n",
    "    [4024220637, 4052693925],\n",
    "    [4052693926, 4081167218]\n",
    "]"
   ]
  },
  {
   "cell_type": "code",
   "execution_count": 3,
   "id": "171da973-1af9-426f-9a76-d138e0a6f5d8",
   "metadata": {},
   "outputs": [],
   "source": [
    "username = ''\n",
    "password = ''\n",
    "\n",
    "# Authenticate using any Linkedin user account credentials\n",
    "api = Linkedin(username, password)"
   ]
  },
  {
   "cell_type": "code",
   "execution_count": null,
   "id": "5c4b4fe0-c9bd-4359-bd16-296d71a9b9a1",
   "metadata": {},
   "outputs": [],
   "source": [
    "all_jobs_2024 = []\n",
    "jobs_not_found_2024 = []\n",
    "max_job_id_2024 = 3824907613 # Job posted on 6 Dec 2024  \n",
    "min_job_id_2024 = 3796434325\n",
    "for job_id in range(max_job_id_2024, min_job_id_2024, -6):\n",
    "    try:\n",
    "        job = api.get_job(job_id)\n",
    "        job['year'] = pd.to_datetime(job['listedAt'], unit='ms').year\n",
    "        all_jobs_2024.append(job)\n",
    "        df = pd.DataFrame(all_jobs_2024)\n",
    "        df.to_csv('data_2024/data_2024_1.csv')\n",
    "        if job_id < min_job_id_2024:\n",
    "            print(\"finished\")\n",
    "            break\n",
    "    except Exception as e:\n",
    "        jobs_not_found_2024.append(job_id)"
   ]
  },
  {
   "cell_type": "code",
   "execution_count": 24,
   "id": "875e4f23-9515-4872-a6a2-e375d834880f",
   "metadata": {},
   "outputs": [
    {
     "name": "stdout",
     "output_type": "stream",
     "text": [
      "2355\n",
      "4201\n"
     ]
    }
   ],
   "source": [
    "print(len(all_jobs_2024))\n",
    "print(len(jobs_not_found_2024))"
   ]
  },
  {
   "cell_type": "code",
   "execution_count": 28,
   "id": "3f3b5f2a-dfab-4a5c-8ffa-3649dd8ace11",
   "metadata": {},
   "outputs": [],
   "source": [
    "df = pd.DataFrame(all_jobs_2024)\n",
    "df.to_csv('data_2024/data_2024_1.csv')"
   ]
  }
 ],
 "metadata": {
  "kernelspec": {
   "display_name": "Python 3 (ipykernel)",
   "language": "python",
   "name": "python3"
  },
  "language_info": {
   "codemirror_mode": {
    "name": "ipython",
    "version": 3
   },
   "file_extension": ".py",
   "mimetype": "text/x-python",
   "name": "python",
   "nbconvert_exporter": "python",
   "pygments_lexer": "ipython3",
   "version": "3.12.1"
  }
 },
 "nbformat": 4,
 "nbformat_minor": 5
}
