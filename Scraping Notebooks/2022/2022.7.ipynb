{
 "cells": [
  {
   "cell_type": "code",
   "execution_count": 1,
   "id": "ed7e0b0d-96db-4b06-9ce7-e8ab4554689b",
   "metadata": {},
   "outputs": [
    {
     "name": "stderr",
     "output_type": "stream",
     "text": [
      "C:\\Users\\eshad\\AppData\\Local\\Temp\\ipykernel_16584\\1765058335.py:2: DeprecationWarning: \n",
      "Pyarrow will become a required dependency of pandas in the next major release of pandas (pandas 3.0),\n",
      "(to allow more performant data types, such as the Arrow string type, and better interoperability with other libraries)\n",
      "but was not found to be installed on your system.\n",
      "If this would cause problems for you,\n",
      "please provide us feedback at https://github.com/pandas-dev/pandas/issues/54466\n",
      "        \n",
      "  import pandas as pd\n"
     ]
    }
   ],
   "source": [
    "from linkedin_api import Linkedin\n",
    "import pandas as pd\n",
    "import time"
   ]
  },
  {
   "cell_type": "code",
   "execution_count": 2,
   "id": "5256c72a-f0f6-4bfe-9423-9bcb1a2c0194",
   "metadata": {},
   "outputs": [],
   "source": [
    "ranges = [\n",
    "    [2825875432, 2887030633],\n",
    "    [2887030634, 2948185835],\n",
    "    [2948185836, 3009341037],\n",
    "    [3009341038, 3070496239],\n",
    "    [3070496240, 3131651441],\n",
    "    [3131651442, 3192806643],\n",
    "    [3192806644, 3253961845],\n",
    "    [3253961846, 3315117047],\n",
    "    [3315117048, 3376272249],\n",
    "    [3376272250, 3437427523]\n",
    "]"
   ]
  },
  {
   "cell_type": "code",
   "execution_count": 3,
   "id": "b7d12ebf-9698-4988-8ff8-a6cafb2b6c3a",
   "metadata": {},
   "outputs": [],
   "source": [
    "username = ''\n",
    "password = ''\n",
    "\n",
    "# Authenticate using any Linkedin user account credentials\n",
    "api = Linkedin(username, password)"
   ]
  },
  {
   "cell_type": "code",
   "execution_count": 8,
   "id": "a50381de-e572-4e2b-bf56-8cadc9ebf783",
   "metadata": {},
   "outputs": [],
   "source": [
    "all_jobs_2022 = []\n",
    "jobs_not_found_2022 = []"
   ]
  },
  {
   "cell_type": "code",
   "execution_count": null,
   "id": "5fed5c64-9a8f-48fe-b5e7-3d4b9809005a",
   "metadata": {},
   "outputs": [],
   "source": [
    "max_job_id_2022 = 3253961845\n",
    "min_job_id_2022 = 3192806644\n",
    "for job_id in range(max_job_id_2022, min_job_id_2022, -6):\n",
    "    try:\n",
    "        job = api.get_job(job_id)\n",
    "        job['year'] = pd.to_datetime(job['listedAt'], unit='ms').year\n",
    "        all_jobs_2022.append(job)\n",
    "        df = pd.DataFrame(all_jobs_2022)\n",
    "        df.to_csv('data_2022/data_2022_7.csv')\n",
    "        if job_id < min_job_id_2022:\n",
    "            print(\"finished\")\n",
    "            break\n",
    "    except Exception as e:\n",
    "        jobs_not_found_2022.append(job_id)"
   ]
  },
  {
   "cell_type": "code",
   "execution_count": null,
   "id": "2fa38a3a-398c-4da6-a8ef-50960bf8ecb8",
   "metadata": {},
   "outputs": [],
   "source": [
    "print(len(all_jobs_2022))\n",
    "print(len(jobs_not_found_2022))"
   ]
  },
  {
   "cell_type": "code",
   "execution_count": null,
   "id": "e0b5facb-3a8c-4ff2-be9f-3329d97ae1a6",
   "metadata": {},
   "outputs": [],
   "source": [
    "df = pd.DataFrame(all_jobs_2022)\n",
    "df.to_csv('data_2022/data_2022_7.csv')"
   ]
  }
 ],
 "metadata": {
  "kernelspec": {
   "display_name": "Python 3 (ipykernel)",
   "language": "python",
   "name": "python3"
  },
  "language_info": {
   "codemirror_mode": {
    "name": "ipython",
    "version": 3
   },
   "file_extension": ".py",
   "mimetype": "text/x-python",
   "name": "python",
   "nbconvert_exporter": "python",
   "pygments_lexer": "ipython3",
   "version": "3.12.1"
  }
 },
 "nbformat": 4,
 "nbformat_minor": 5
}
