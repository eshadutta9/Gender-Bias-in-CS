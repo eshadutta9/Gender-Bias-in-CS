{
 "cells": [
  {
   "cell_type": "code",
   "execution_count": 1,
   "id": "f1330cd6-8817-46e6-b0eb-4e647f100a44",
   "metadata": {},
   "outputs": [],
   "source": [
    "from linkedin_api import Linkedin\n",
    "import pandas as pd\n",
    "import time"
   ]
  },
  {
   "cell_type": "code",
   "execution_count": 2,
   "id": "f3fd8141-f2ba-4daa-b29d-d206e795f5e1",
   "metadata": {},
   "outputs": [],
   "source": [
    "username = ''\n",
    "password = ''\n",
    "\n",
    "# Authenticate using any Linkedin user account credentials\n",
    "api = Linkedin(username, password)"
   ]
  },
  {
   "cell_type": "code",
   "execution_count": 3,
   "id": "edc23dec-8003-44a9-b172-e8ca9c8ca4ef",
   "metadata": {},
   "outputs": [],
   "source": [
    "ranges = [\n",
    "  [551364593, 596228125],\n",
    "  [596228126, 641091658],\n",
    "  [641091659, 685955191],\n",
    "  [685955192, 730818724],\n",
    "  [730818725, 775682257],\n",
    "  [775682258, 820545790],\n",
    "  [820545791, 865409323],\n",
    "  [865409324, 910272856],\n",
    "  [910272857, 955136389],\n",
    "  [955136390, 999999914]\n",
    "]"
   ]
  },
  {
   "cell_type": "code",
   "execution_count": 4,
   "id": "d0bb4537-5236-4385-8be9-eaff3d486d3f",
   "metadata": {},
   "outputs": [],
   "source": [
    "all_jobs_2018 = []\n",
    "jobs_not_found_2018 = []"
   ]
  },
  {
   "cell_type": "code",
   "execution_count": null,
   "id": "b2461569-35de-4716-865b-2513dca081fb",
   "metadata": {},
   "outputs": [],
   "source": [
    "max_job_id_2018 = 820545790\n",
    "min_job_id_2018 = 775682258\n",
    "\n",
    "for job_id in range(max_job_id_2018, min_job_id_2018, -6):\n",
    "  try:\n",
    "    job = api.get_job(job_id)\n",
    "    job['year'] = pd.to_datetime(job['listedAt'], unit='ms').year\n",
    "    all_jobs_2018.append(job)\n",
    "    df = pd.DataFrame(all_jobs_2018)\n",
    "    df.to_csv('data_2018/data_2018_6.csv')\n",
    "    if job_id < min_job_id_2018:\n",
    "      print(\"finished\")\n",
    "      break\n",
    "  except Exception as e:\n",
    "    jobs_not_found_2018.append(job_id)"
   ]
  },
  {
   "cell_type": "code",
   "execution_count": null,
   "id": "7382469b-aafb-48e2-9312-99cad5f8178f",
   "metadata": {},
   "outputs": [],
   "source": [
    "print(len(all_jobs_2018))\n",
    "print(len(jobs_not_found_2018))"
   ]
  },
  {
   "cell_type": "code",
   "execution_count": null,
   "id": "d03e366e-5a8d-4f09-b848-76f93b322f11",
   "metadata": {},
   "outputs": [],
   "source": [
    "df = pd.DataFrame(all_jobs_2018)\n",
    "df.to_csv('data_2018/data_2018_6.csv')"
   ]
  }
 ],
 "metadata": {
  "kernelspec": {
   "display_name": "Python 3 (ipykernel)",
   "language": "python",
   "name": "python3"
  },
  "language_info": {
   "codemirror_mode": {
    "name": "ipython",
    "version": 3
   },
   "file_extension": ".py",
   "mimetype": "text/x-python",
   "name": "python",
   "nbconvert_exporter": "python",
   "pygments_lexer": "ipython3",
   "version": "3.12.1"
  }
 },
 "nbformat": 4,
 "nbformat_minor": 5
}
