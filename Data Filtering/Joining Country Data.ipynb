{
 "cells": [
  {
   "cell_type": "code",
   "execution_count": 52,
   "id": "fee890a2-ebf7-49f7-ad38-44005d71016e",
   "metadata": {},
   "outputs": [],
   "source": [
    "import modin.pandas as pd\n",
    "import time\n",
    "import json\n",
    "import os"
   ]
  },
  {
   "cell_type": "code",
   "execution_count": 63,
   "id": "c2aaf18f-1ee0-4b8a-9967-9334abeabf36",
   "metadata": {},
   "outputs": [],
   "source": [
    "dir_jobs = \"C:\\\\Users\\\\eshad\\\\OneDrive\\\\Desktop\\\\TU Delft\\\\Thesis\\\\Web Scrape PoC\\\\Data\\\\2. Filtered preprocessed data\\\\2018\\\\\"\n",
    "dir_countries = \"C:\\\\Users\\\\eshad\\\\OneDrive\\\\Desktop\\\\TU Delft\\\\Thesis\\\\Web Scrape PoC\\\\Data\\\\3. Filtered preprocessed data with country\\\\\""
   ]
  },
  {
   "cell_type": "code",
   "execution_count": 64,
   "id": "0d5cdee6-956d-4987-b758-399067c814f1",
   "metadata": {},
   "outputs": [],
   "source": [
    "# Function to extract company ID and LinkedIn link\n",
    "def extract_company_info(company_detail):\n",
    "    try:\n",
    "        company_data = json.loads(company_detail.replace(\"'\", '\"'))\n",
    "        if 'com.linkedin.voyager.deco.jobs.web.shared.WebCompactJobPostingCompany' in company_data:\n",
    "            company_info = company_data['com.linkedin.voyager.deco.jobs.web.shared.WebCompactJobPostingCompany']\n",
    "        elif 'com.linkedin.voyager.jobs.JobPostingCompanyName' in company_data:\n",
    "            company_info = company_data['com.linkedin.voyager.jobs.JobPostingCompanyName']\n",
    "        # print(company_info['company'])\n",
    "        if 'company' in company_info:\n",
    "            company_id = company_info['company'].split(':')[-1]\n",
    "        elif 'companyResolutionResult' in company_info:\n",
    "            company_id = company_info['companyResolutionResult']['entityUrn'].split(':')[-1]\n",
    "        elif 'companyName' in company_info:\n",
    "            company_id = company_info['companyName']\n",
    "        return company_id\n",
    "    except (KeyError, ValueError, TypeError) as e:\n",
    "        return \"no company ID\""
   ]
  },
  {
   "cell_type": "code",
   "execution_count": 65,
   "id": "7c36c5bc-8ee1-4951-9a81-21db77dcf84d",
   "metadata": {
    "scrolled": true
   },
   "outputs": [
    {
     "name": "stdout",
     "output_type": "stream",
     "text": [
      "2018_backup_29_mar.csv\n",
      "2018_backup_3_16_mar.csv\n",
      "20746\n"
     ]
    },
    {
     "data": {
      "text/html": [
       "<div>\n",
       "<style scoped>\n",
       "    .dataframe tbody tr th:only-of-type {\n",
       "        vertical-align: middle;\n",
       "    }\n",
       "\n",
       "    .dataframe tbody tr th {\n",
       "        vertical-align: top;\n",
       "    }\n",
       "\n",
       "    .dataframe thead th {\n",
       "        text-align: right;\n",
       "    }\n",
       "</style>\n",
       "<table border=\"1\" class=\"dataframe\">\n",
       "  <thead>\n",
       "    <tr style=\"text-align: right;\">\n",
       "      <th></th>\n",
       "      <th>Unnamed: 0</th>\n",
       "      <th>jobPostingId</th>\n",
       "      <th>companyDetails</th>\n",
       "      <th>title</th>\n",
       "      <th>description</th>\n",
       "      <th>workRemoteAllowed</th>\n",
       "      <th>formattedLocation</th>\n",
       "      <th>work_model</th>\n",
       "      <th>soc_code</th>\n",
       "    </tr>\n",
       "  </thead>\n",
       "  <tbody>\n",
       "    <tr>\n",
       "      <th>0</th>\n",
       "      <td>218</td>\n",
       "      <td>589566654</td>\n",
       "      <td>{'com.linkedin.voyager.deco.jobs.web.shared.We...</td>\n",
       "      <td>VOIP Systems Administrator</td>\n",
       "      <td>VOIP Systems Administrator \\n The Texas Associ...</td>\n",
       "      <td>False</td>\n",
       "      <td>Austin, TX</td>\n",
       "      <td>NaN</td>\n",
       "      <td>313.0</td>\n",
       "    </tr>\n",
       "    <tr>\n",
       "      <th>1</th>\n",
       "      <td>222</td>\n",
       "      <td>589565742</td>\n",
       "      <td>{'com.linkedin.voyager.deco.jobs.web.shared.We...</td>\n",
       "      <td>Data Engineer</td>\n",
       "      <td>Who We Are\\n\\nWeâre not only the largest onl...</td>\n",
       "      <td>False</td>\n",
       "      <td>Detroit, MI</td>\n",
       "      <td>NaN</td>\n",
       "      <td>524.0</td>\n",
       "    </tr>\n",
       "    <tr>\n",
       "      <th>2</th>\n",
       "      <td>313</td>\n",
       "      <td>589522590</td>\n",
       "      <td>{'com.linkedin.voyager.deco.jobs.web.shared.We...</td>\n",
       "      <td>Senior Front-End Web Developer - (180001FD)</td>\n",
       "      <td>The Senior Front-End Web Developer position bu...</td>\n",
       "      <td>False</td>\n",
       "      <td>Cleveland, OH</td>\n",
       "      <td>NaN</td>\n",
       "      <td>213.0</td>\n",
       "    </tr>\n",
       "    <tr>\n",
       "      <th>3</th>\n",
       "      <td>339</td>\n",
       "      <td>589516170</td>\n",
       "      <td>{'com.linkedin.voyager.deco.jobs.web.shared.We...</td>\n",
       "      <td>Data Analyst - Healthcare Payer</td>\n",
       "      <td>At Perficient youâll deliver mission-critica...</td>\n",
       "      <td>False</td>\n",
       "      <td>Miami, FL</td>\n",
       "      <td>NaN</td>\n",
       "      <td>242.0</td>\n",
       "    </tr>\n",
       "    <tr>\n",
       "      <th>4</th>\n",
       "      <td>361</td>\n",
       "      <td>589515078</td>\n",
       "      <td>{'com.linkedin.voyager.deco.jobs.web.shared.We...</td>\n",
       "      <td>Data Analyst - Healthcare Payer</td>\n",
       "      <td>At Perficient youâll deliver mission-critica...</td>\n",
       "      <td>False</td>\n",
       "      <td>Little Rock, AR</td>\n",
       "      <td>NaN</td>\n",
       "      <td>242.0</td>\n",
       "    </tr>\n",
       "  </tbody>\n",
       "</table>\n",
       "</div>"
      ],
      "text/plain": [
       "   Unnamed: 0  jobPostingId  \\\n",
       "0         218     589566654   \n",
       "1         222     589565742   \n",
       "2         313     589522590   \n",
       "3         339     589516170   \n",
       "4         361     589515078   \n",
       "\n",
       "                                      companyDetails  \\\n",
       "0  {'com.linkedin.voyager.deco.jobs.web.shared.We...   \n",
       "1  {'com.linkedin.voyager.deco.jobs.web.shared.We...   \n",
       "2  {'com.linkedin.voyager.deco.jobs.web.shared.We...   \n",
       "3  {'com.linkedin.voyager.deco.jobs.web.shared.We...   \n",
       "4  {'com.linkedin.voyager.deco.jobs.web.shared.We...   \n",
       "\n",
       "                                         title  \\\n",
       "0                   VOIP Systems Administrator   \n",
       "1                                Data Engineer   \n",
       "2  Senior Front-End Web Developer - (180001FD)   \n",
       "3              Data Analyst - Healthcare Payer   \n",
       "4              Data Analyst - Healthcare Payer   \n",
       "\n",
       "                                         description  workRemoteAllowed  \\\n",
       "0  VOIP Systems Administrator \\n The Texas Associ...              False   \n",
       "1  Who We Are\\n\\nWeâre not only the largest onl...              False   \n",
       "2  The Senior Front-End Web Developer position bu...              False   \n",
       "3  At Perficient youâll deliver mission-critica...              False   \n",
       "4  At Perficient youâll deliver mission-critica...              False   \n",
       "\n",
       "  formattedLocation work_model  soc_code  \n",
       "0        Austin, TX        NaN     313.0  \n",
       "1       Detroit, MI        NaN     524.0  \n",
       "2     Cleveland, OH        NaN     213.0  \n",
       "3         Miami, FL        NaN     242.0  \n",
       "4   Little Rock, AR        NaN     242.0  "
      ]
     },
     "execution_count": 65,
     "metadata": {},
     "output_type": "execute_result"
    }
   ],
   "source": [
    "dataframes = []\n",
    "# Read all files in the directory\n",
    "for file_name in os.listdir(dir_jobs):\n",
    "    # if file_name.startswith('2018_'): \n",
    "        print(file_name)\n",
    "        file_path = os.path.join(dir_jobs, file_name)\n",
    "        tmp_df = pd.read_csv(file_path)\n",
    "        dataframes.append(tmp_df)\n",
    "df = pd.concat(dataframes)\n",
    "print(len(df))\n",
    "df.head()"
   ]
  },
  {
   "cell_type": "code",
   "execution_count": 66,
   "id": "79fc5524-e008-4c16-a76d-26a08a0462b9",
   "metadata": {
    "scrolled": true
   },
   "outputs": [
    {
     "data": {
      "text/plain": [
       "20746"
      ]
     },
     "execution_count": 66,
     "metadata": {},
     "output_type": "execute_result"
    }
   ],
   "source": [
    "df_no_na = df.dropna(how='all')\n",
    "len(df_no_na)"
   ]
  },
  {
   "cell_type": "code",
   "execution_count": 67,
   "id": "f53259c0-bb60-45d1-afbc-09a575ff3557",
   "metadata": {},
   "outputs": [
    {
     "data": {
      "text/plain": [
       "19224"
      ]
     },
     "execution_count": 67,
     "metadata": {},
     "output_type": "execute_result"
    }
   ],
   "source": [
    "df_no_dupes = df_no_na.drop_duplicates(keep='first')\n",
    "len(df_no_dupes)"
   ]
  },
  {
   "cell_type": "code",
   "execution_count": 68,
   "id": "56e1a315-fddb-4d3c-bfe3-f3dd39f9764c",
   "metadata": {
    "scrolled": true
   },
   "outputs": [
    {
     "name": "stdout",
     "output_type": "stream",
     "text": [
      "locations_and_countries.csv\n",
      "locations_and_countries_batch_2.csv\n",
      "locations_and_countries_batch_3.csv\n",
      "22976\n",
      "22614\n"
     ]
    },
    {
     "data": {
      "text/html": [
       "<div>\n",
       "<style scoped>\n",
       "    .dataframe tbody tr th:only-of-type {\n",
       "        vertical-align: middle;\n",
       "    }\n",
       "\n",
       "    .dataframe tbody tr th {\n",
       "        vertical-align: top;\n",
       "    }\n",
       "\n",
       "    .dataframe thead th {\n",
       "        text-align: right;\n",
       "    }\n",
       "</style>\n",
       "<table border=\"1\" class=\"dataframe\">\n",
       "  <thead>\n",
       "    <tr style=\"text-align: right;\">\n",
       "      <th></th>\n",
       "      <th>formattedLocation</th>\n",
       "      <th>country</th>\n",
       "    </tr>\n",
       "  </thead>\n",
       "  <tbody>\n",
       "    <tr>\n",
       "      <th>0</th>\n",
       "      <td>Israel</td>\n",
       "      <td>Israel</td>\n",
       "    </tr>\n",
       "    <tr>\n",
       "      <th>1</th>\n",
       "      <td>United States</td>\n",
       "      <td>United States of America</td>\n",
       "    </tr>\n",
       "    <tr>\n",
       "      <th>2</th>\n",
       "      <td>Holmdel, NJ</td>\n",
       "      <td>United States of America</td>\n",
       "    </tr>\n",
       "    <tr>\n",
       "      <th>3</th>\n",
       "      <td>Washington, DC</td>\n",
       "      <td>United States of America</td>\n",
       "    </tr>\n",
       "    <tr>\n",
       "      <th>4</th>\n",
       "      <td>Manhattan Beach, CA</td>\n",
       "      <td>United States of America</td>\n",
       "    </tr>\n",
       "  </tbody>\n",
       "</table>\n",
       "</div>"
      ],
      "text/plain": [
       "     formattedLocation                   country\n",
       "0               Israel                    Israel\n",
       "1        United States  United States of America\n",
       "2          Holmdel, NJ  United States of America\n",
       "3       Washington, DC  United States of America\n",
       "4  Manhattan Beach, CA  United States of America"
      ]
     },
     "execution_count": 68,
     "metadata": {},
     "output_type": "execute_result"
    }
   ],
   "source": [
    "country_dataframes = []\n",
    "# Read all files in the directory\n",
    "for file_name in os.listdir(dir_countries):\n",
    "    if file_name.startswith('locations_'): \n",
    "        print(file_name)\n",
    "        file_path = os.path.join(dir_countries, file_name)\n",
    "        tmp_df = pd.read_csv(file_path, usecols = ['formattedLocation', 'country'])\n",
    "        country_dataframes.append(tmp_df)\n",
    "country_df = pd.concat(country_dataframes)\n",
    "print(len(country_df))\n",
    "country_df = country_df.dropna()\n",
    "country_df = country_df.drop_duplicates()\n",
    "print(len(country_df))\n",
    "country_df.head()"
   ]
  },
  {
   "cell_type": "code",
   "execution_count": null,
   "id": "4114dc4d-777f-4b86-8468-10711b657b59",
   "metadata": {},
   "outputs": [],
   "source": []
  },
  {
   "cell_type": "code",
   "execution_count": 69,
   "id": "1439eae2-debc-486d-99ce-6ede34d77dd1",
   "metadata": {},
   "outputs": [
    {
     "name": "stdout",
     "output_type": "stream",
     "text": [
      "19224\n"
     ]
    },
    {
     "data": {
      "text/html": [
       "<div>\n",
       "<style scoped>\n",
       "    .dataframe tbody tr th:only-of-type {\n",
       "        vertical-align: middle;\n",
       "    }\n",
       "\n",
       "    .dataframe tbody tr th {\n",
       "        vertical-align: top;\n",
       "    }\n",
       "\n",
       "    .dataframe thead th {\n",
       "        text-align: right;\n",
       "    }\n",
       "</style>\n",
       "<table border=\"1\" class=\"dataframe\">\n",
       "  <thead>\n",
       "    <tr style=\"text-align: right;\">\n",
       "      <th></th>\n",
       "      <th>Unnamed: 0</th>\n",
       "      <th>jobPostingId</th>\n",
       "      <th>companyDetails</th>\n",
       "      <th>title</th>\n",
       "      <th>description</th>\n",
       "      <th>workRemoteAllowed</th>\n",
       "      <th>formattedLocation</th>\n",
       "      <th>work_model</th>\n",
       "      <th>soc_code</th>\n",
       "      <th>country</th>\n",
       "    </tr>\n",
       "  </thead>\n",
       "  <tbody>\n",
       "    <tr>\n",
       "      <th>0</th>\n",
       "      <td>218</td>\n",
       "      <td>589566654</td>\n",
       "      <td>{'com.linkedin.voyager.deco.jobs.web.shared.We...</td>\n",
       "      <td>VOIP Systems Administrator</td>\n",
       "      <td>VOIP Systems Administrator \\n The Texas Associ...</td>\n",
       "      <td>False</td>\n",
       "      <td>Austin, TX</td>\n",
       "      <td>NaN</td>\n",
       "      <td>313.0</td>\n",
       "      <td>United States of America</td>\n",
       "    </tr>\n",
       "    <tr>\n",
       "      <th>1</th>\n",
       "      <td>222</td>\n",
       "      <td>589565742</td>\n",
       "      <td>{'com.linkedin.voyager.deco.jobs.web.shared.We...</td>\n",
       "      <td>Data Engineer</td>\n",
       "      <td>Who We Are\\n\\nWeâre not only the largest onl...</td>\n",
       "      <td>False</td>\n",
       "      <td>Detroit, MI</td>\n",
       "      <td>NaN</td>\n",
       "      <td>524.0</td>\n",
       "      <td>United States of America</td>\n",
       "    </tr>\n",
       "    <tr>\n",
       "      <th>2</th>\n",
       "      <td>313</td>\n",
       "      <td>589522590</td>\n",
       "      <td>{'com.linkedin.voyager.deco.jobs.web.shared.We...</td>\n",
       "      <td>Senior Front-End Web Developer - (180001FD)</td>\n",
       "      <td>The Senior Front-End Web Developer position bu...</td>\n",
       "      <td>False</td>\n",
       "      <td>Cleveland, OH</td>\n",
       "      <td>NaN</td>\n",
       "      <td>213.0</td>\n",
       "      <td>United States of America</td>\n",
       "    </tr>\n",
       "    <tr>\n",
       "      <th>3</th>\n",
       "      <td>339</td>\n",
       "      <td>589516170</td>\n",
       "      <td>{'com.linkedin.voyager.deco.jobs.web.shared.We...</td>\n",
       "      <td>Data Analyst - Healthcare Payer</td>\n",
       "      <td>At Perficient youâll deliver mission-critica...</td>\n",
       "      <td>False</td>\n",
       "      <td>Miami, FL</td>\n",
       "      <td>NaN</td>\n",
       "      <td>242.0</td>\n",
       "      <td>United States of America</td>\n",
       "    </tr>\n",
       "    <tr>\n",
       "      <th>4</th>\n",
       "      <td>361</td>\n",
       "      <td>589515078</td>\n",
       "      <td>{'com.linkedin.voyager.deco.jobs.web.shared.We...</td>\n",
       "      <td>Data Analyst - Healthcare Payer</td>\n",
       "      <td>At Perficient youâll deliver mission-critica...</td>\n",
       "      <td>False</td>\n",
       "      <td>Little Rock, AR</td>\n",
       "      <td>NaN</td>\n",
       "      <td>242.0</td>\n",
       "      <td>United States of America</td>\n",
       "    </tr>\n",
       "  </tbody>\n",
       "</table>\n",
       "</div>"
      ],
      "text/plain": [
       "   Unnamed: 0  jobPostingId  \\\n",
       "0         218     589566654   \n",
       "1         222     589565742   \n",
       "2         313     589522590   \n",
       "3         339     589516170   \n",
       "4         361     589515078   \n",
       "\n",
       "                                      companyDetails  \\\n",
       "0  {'com.linkedin.voyager.deco.jobs.web.shared.We...   \n",
       "1  {'com.linkedin.voyager.deco.jobs.web.shared.We...   \n",
       "2  {'com.linkedin.voyager.deco.jobs.web.shared.We...   \n",
       "3  {'com.linkedin.voyager.deco.jobs.web.shared.We...   \n",
       "4  {'com.linkedin.voyager.deco.jobs.web.shared.We...   \n",
       "\n",
       "                                         title  \\\n",
       "0                   VOIP Systems Administrator   \n",
       "1                                Data Engineer   \n",
       "2  Senior Front-End Web Developer - (180001FD)   \n",
       "3              Data Analyst - Healthcare Payer   \n",
       "4              Data Analyst - Healthcare Payer   \n",
       "\n",
       "                                         description  workRemoteAllowed  \\\n",
       "0  VOIP Systems Administrator \\n The Texas Associ...              False   \n",
       "1  Who We Are\\n\\nWeâre not only the largest onl...              False   \n",
       "2  The Senior Front-End Web Developer position bu...              False   \n",
       "3  At Perficient youâll deliver mission-critica...              False   \n",
       "4  At Perficient youâll deliver mission-critica...              False   \n",
       "\n",
       "  formattedLocation work_model  soc_code                   country  \n",
       "0        Austin, TX        NaN     313.0  United States of America  \n",
       "1       Detroit, MI        NaN     524.0  United States of America  \n",
       "2     Cleveland, OH        NaN     213.0  United States of America  \n",
       "3         Miami, FL        NaN     242.0  United States of America  \n",
       "4   Little Rock, AR        NaN     242.0  United States of America  "
      ]
     },
     "execution_count": 69,
     "metadata": {},
     "output_type": "execute_result"
    }
   ],
   "source": [
    "df_with_countries = df_no_dupes.merge(country_df, how='left', on='formattedLocation')\n",
    "print(len(df_with_countries))\n",
    "df_with_countries.head()"
   ]
  },
  {
   "cell_type": "code",
   "execution_count": 70,
   "id": "7838d334-83e7-4f7b-b87e-e2c2b6174abb",
   "metadata": {},
   "outputs": [],
   "source": [
    "df_with_countries.to_csv(os.path.join(dir_countries, \"all_data_with_countries\", \"all_data_with_countries_2018.csv\"))"
   ]
  },
  {
   "cell_type": "code",
   "execution_count": null,
   "id": "45c50459-2fa5-40b7-8dc5-ad940e3aa364",
   "metadata": {},
   "outputs": [],
   "source": []
  }
 ],
 "metadata": {
  "kernelspec": {
   "display_name": "Python 3 (ipykernel)",
   "language": "python",
   "name": "python3"
  },
  "language_info": {
   "codemirror_mode": {
    "name": "ipython",
    "version": 3
   },
   "file_extension": ".py",
   "mimetype": "text/x-python",
   "name": "python",
   "nbconvert_exporter": "python",
   "pygments_lexer": "ipython3",
   "version": "3.12.1"
  }
 },
 "nbformat": 4,
 "nbformat_minor": 5
}
