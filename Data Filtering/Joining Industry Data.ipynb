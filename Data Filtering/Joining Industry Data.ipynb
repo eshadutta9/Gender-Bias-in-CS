{
 "cells": [
  {
   "cell_type": "code",
   "execution_count": 30,
   "id": "c87e1670-0440-4a0c-9a63-f3d459de1995",
   "metadata": {},
   "outputs": [],
   "source": [
    "import modin.pandas as pd\n",
    "import time\n",
    "import json\n",
    "import os"
   ]
  },
  {
   "cell_type": "code",
   "execution_count": 33,
   "id": "c0e7a2e9-013b-46fd-ab53-1a5836a849c7",
   "metadata": {},
   "outputs": [],
   "source": [
    "dir_jobs = \"C:\\\\Users\\\\eshad\\\\OneDrive\\\\Desktop\\\\TU Delft\\\\Thesis\\\\Web Scrape PoC\\\\Data\\\\3. Filtered preprocessed data with country\\\\all_data_with_countries\\\\\"\n",
    "dir_industries = \"C:\\\\Users\\\\eshad\\\\OneDrive\\\\Desktop\\\\TU Delft\\\\Thesis\\\\Web Scrape PoC\\\\Data\\\\4. Filtered preprocessed data with industry\\\\\""
   ]
  },
  {
   "cell_type": "code",
   "execution_count": 34,
   "id": "e87b5841-25a4-49b4-bc67-2d63ca5ac371",
   "metadata": {},
   "outputs": [],
   "source": [
    "# Function to extract company ID and LinkedIn link\n",
    "def extract_company_info(company_detail):\n",
    "    try:\n",
    "        company_data = json.loads(company_detail.replace(\"'\", '\"'))\n",
    "        if 'com.linkedin.voyager.deco.jobs.web.shared.WebCompactJobPostingCompany' in company_data:\n",
    "            company_info = company_data['com.linkedin.voyager.deco.jobs.web.shared.WebCompactJobPostingCompany']\n",
    "        elif 'com.linkedin.voyager.jobs.JobPostingCompanyName' in company_data:\n",
    "            company_info = company_data['com.linkedin.voyager.jobs.JobPostingCompanyName']\n",
    "        # print(company_info['company'])\n",
    "        if 'company' in company_info:\n",
    "            company_id = company_info['company'].split(':')[-1]\n",
    "        elif 'companyResolutionResult' in company_info:\n",
    "            company_id = company_info['companyResolutionResult']['entityUrn'].split(':')[-1]\n",
    "        elif 'companyName' in company_info:\n",
    "            company_id = company_info['companyName']\n",
    "        return company_id\n",
    "    except (KeyError, ValueError, TypeError) as e:\n",
    "        return \"no company ID\""
   ]
  },
  {
   "cell_type": "code",
   "execution_count": 35,
   "id": "e84bb9e3-45ca-453d-814f-ff79a8278907",
   "metadata": {
    "scrolled": true
   },
   "outputs": [
    {
     "name": "stdout",
     "output_type": "stream",
     "text": [
      "all_data_with_countries_2016.csv\n",
      "all_data_with_countries_2018.csv\n",
      "61098\n",
      "61098\n"
     ]
    },
    {
     "data": {
      "text/html": [
       "<div>\n",
       "<style scoped>\n",
       "    .dataframe tbody tr th:only-of-type {\n",
       "        vertical-align: middle;\n",
       "    }\n",
       "\n",
       "    .dataframe tbody tr th {\n",
       "        vertical-align: top;\n",
       "    }\n",
       "\n",
       "    .dataframe thead th {\n",
       "        text-align: right;\n",
       "    }\n",
       "</style>\n",
       "<table border=\"1\" class=\"dataframe\">\n",
       "  <thead>\n",
       "    <tr style=\"text-align: right;\">\n",
       "      <th></th>\n",
       "      <th>jobPostingId</th>\n",
       "      <th>companyDetails</th>\n",
       "      <th>title</th>\n",
       "      <th>description</th>\n",
       "      <th>workRemoteAllowed</th>\n",
       "      <th>formattedLocation</th>\n",
       "      <th>work_model</th>\n",
       "      <th>soc_code</th>\n",
       "      <th>country</th>\n",
       "      <th>year</th>\n",
       "    </tr>\n",
       "  </thead>\n",
       "  <tbody>\n",
       "    <tr>\n",
       "      <th>0</th>\n",
       "      <td>114367533</td>\n",
       "      <td>{'com.linkedin.voyager.deco.jobs.web.shared.We...</td>\n",
       "      <td>Front End Developer</td>\n",
       "      <td>This is your opportunity to join Australia's o...</td>\n",
       "      <td>False</td>\n",
       "      <td>Hawthorn, Victoria, Australia</td>\n",
       "      <td>NaN</td>\n",
       "      <td>213.0</td>\n",
       "      <td>Australia</td>\n",
       "      <td>2016</td>\n",
       "    </tr>\n",
       "    <tr>\n",
       "      <th>1</th>\n",
       "      <td>249165572</td>\n",
       "      <td>{'com.linkedin.voyager.deco.jobs.web.shared.We...</td>\n",
       "      <td>Manager - Cost Data Analyst</td>\n",
       "      <td>Position Description\\n  Cognizant is seeking a...</td>\n",
       "      <td>False</td>\n",
       "      <td>Bengaluru, Karnataka, India</td>\n",
       "      <td>NaN</td>\n",
       "      <td>213.0</td>\n",
       "      <td>India</td>\n",
       "      <td>2016</td>\n",
       "    </tr>\n",
       "    <tr>\n",
       "      <th>2</th>\n",
       "      <td>249164672</td>\n",
       "      <td>{'com.linkedin.voyager.deco.jobs.web.shared.We...</td>\n",
       "      <td>Sr Agile/DevOps Coach</td>\n",
       "      <td>As America's Un-carrier, T-Mobile US, Inc. (NA...</td>\n",
       "      <td>False</td>\n",
       "      <td>Atlanta, GA</td>\n",
       "      <td>NaN</td>\n",
       "      <td>356.0</td>\n",
       "      <td>United States of America</td>\n",
       "      <td>2016</td>\n",
       "    </tr>\n",
       "    <tr>\n",
       "      <th>3</th>\n",
       "      <td>249164402</td>\n",
       "      <td>{'com.linkedin.voyager.deco.jobs.web.shared.We...</td>\n",
       "      <td>Data Scientist</td>\n",
       "      <td>Rational is a full service, integrated agency ...</td>\n",
       "      <td>False</td>\n",
       "      <td>Seattle, WA</td>\n",
       "      <td>NaN</td>\n",
       "      <td>242.0</td>\n",
       "      <td>United States of America</td>\n",
       "      <td>2016</td>\n",
       "    </tr>\n",
       "    <tr>\n",
       "      <th>4</th>\n",
       "      <td>249164246</td>\n",
       "      <td>{'com.linkedin.voyager.deco.jobs.web.shared.We...</td>\n",
       "      <td>Data Analyst - Cisco expereince a must</td>\n",
       "      <td>Data Analyst - Finances &amp; Operations Raleigh, ...</td>\n",
       "      <td>False</td>\n",
       "      <td>Raleigh, NC</td>\n",
       "      <td>NaN</td>\n",
       "      <td>353.0</td>\n",
       "      <td>United States of America</td>\n",
       "      <td>2016</td>\n",
       "    </tr>\n",
       "  </tbody>\n",
       "</table>\n",
       "</div>"
      ],
      "text/plain": [
       "   jobPostingId                                     companyDetails  \\\n",
       "0     114367533  {'com.linkedin.voyager.deco.jobs.web.shared.We...   \n",
       "1     249165572  {'com.linkedin.voyager.deco.jobs.web.shared.We...   \n",
       "2     249164672  {'com.linkedin.voyager.deco.jobs.web.shared.We...   \n",
       "3     249164402  {'com.linkedin.voyager.deco.jobs.web.shared.We...   \n",
       "4     249164246  {'com.linkedin.voyager.deco.jobs.web.shared.We...   \n",
       "\n",
       "                                    title  \\\n",
       "0                     Front End Developer   \n",
       "1             Manager - Cost Data Analyst   \n",
       "2                   Sr Agile/DevOps Coach   \n",
       "3                          Data Scientist   \n",
       "4  Data Analyst - Cisco expereince a must   \n",
       "\n",
       "                                         description  workRemoteAllowed  \\\n",
       "0  This is your opportunity to join Australia's o...              False   \n",
       "1  Position Description\\n  Cognizant is seeking a...              False   \n",
       "2  As America's Un-carrier, T-Mobile US, Inc. (NA...              False   \n",
       "3  Rational is a full service, integrated agency ...              False   \n",
       "4  Data Analyst - Finances & Operations Raleigh, ...              False   \n",
       "\n",
       "               formattedLocation work_model  soc_code  \\\n",
       "0  Hawthorn, Victoria, Australia        NaN     213.0   \n",
       "1    Bengaluru, Karnataka, India        NaN     213.0   \n",
       "2                    Atlanta, GA        NaN     356.0   \n",
       "3                    Seattle, WA        NaN     242.0   \n",
       "4                    Raleigh, NC        NaN     353.0   \n",
       "\n",
       "                    country  year  \n",
       "0                 Australia  2016  \n",
       "1                     India  2016  \n",
       "2  United States of America  2016  \n",
       "3  United States of America  2016  \n",
       "4  United States of America  2016  "
      ]
     },
     "execution_count": 35,
     "metadata": {},
     "output_type": "execute_result"
    }
   ],
   "source": [
    "dataframes = []\n",
    "# Read all files in the directory\n",
    "for file_name in os.listdir(dir_jobs):\n",
    "    if file_name.startswith('all_data_with_countries_2'): \n",
    "        print(file_name)\n",
    "        file_path = os.path.join(dir_jobs, file_name)\n",
    "        tmp_df = pd.read_csv(file_path)\n",
    "        dataframes.append(tmp_df)\n",
    "df = pd.concat(dataframes)\n",
    "print(len(df))\n",
    "df = df.dropna(how='all')\n",
    "df = df.drop_duplicates(keep='first')\n",
    "print(len(df))\n",
    "df.head()"
   ]
  },
  {
   "cell_type": "code",
   "execution_count": 36,
   "id": "6fa3a7b1-1931-4db9-90b5-57825b98d27a",
   "metadata": {},
   "outputs": [
    {
     "data": {
      "text/html": [
       "<div>\n",
       "<style scoped>\n",
       "    .dataframe tbody tr th:only-of-type {\n",
       "        vertical-align: middle;\n",
       "    }\n",
       "\n",
       "    .dataframe tbody tr th {\n",
       "        vertical-align: top;\n",
       "    }\n",
       "\n",
       "    .dataframe thead th {\n",
       "        text-align: right;\n",
       "    }\n",
       "</style>\n",
       "<table border=\"1\" class=\"dataframe\">\n",
       "  <thead>\n",
       "    <tr style=\"text-align: right;\">\n",
       "      <th></th>\n",
       "      <th>jobPostingId</th>\n",
       "      <th>companyDetails</th>\n",
       "      <th>title</th>\n",
       "      <th>description</th>\n",
       "      <th>workRemoteAllowed</th>\n",
       "      <th>formattedLocation</th>\n",
       "      <th>work_model</th>\n",
       "      <th>soc_code</th>\n",
       "      <th>country</th>\n",
       "      <th>year</th>\n",
       "      <th>Company ID</th>\n",
       "    </tr>\n",
       "  </thead>\n",
       "  <tbody>\n",
       "    <tr>\n",
       "      <th>0</th>\n",
       "      <td>114367533</td>\n",
       "      <td>{'com.linkedin.voyager.deco.jobs.web.shared.We...</td>\n",
       "      <td>Front End Developer</td>\n",
       "      <td>This is your opportunity to join Australia's o...</td>\n",
       "      <td>False</td>\n",
       "      <td>Hawthorn, Victoria, Australia</td>\n",
       "      <td>NaN</td>\n",
       "      <td>213.0</td>\n",
       "      <td>Australia</td>\n",
       "      <td>2016</td>\n",
       "      <td>2692410</td>\n",
       "    </tr>\n",
       "    <tr>\n",
       "      <th>1</th>\n",
       "      <td>249165572</td>\n",
       "      <td>{'com.linkedin.voyager.deco.jobs.web.shared.We...</td>\n",
       "      <td>Manager - Cost Data Analyst</td>\n",
       "      <td>Position Description\\n  Cognizant is seeking a...</td>\n",
       "      <td>False</td>\n",
       "      <td>Bengaluru, Karnataka, India</td>\n",
       "      <td>NaN</td>\n",
       "      <td>213.0</td>\n",
       "      <td>India</td>\n",
       "      <td>2016</td>\n",
       "      <td>1680</td>\n",
       "    </tr>\n",
       "    <tr>\n",
       "      <th>2</th>\n",
       "      <td>249164672</td>\n",
       "      <td>{'com.linkedin.voyager.deco.jobs.web.shared.We...</td>\n",
       "      <td>Sr Agile/DevOps Coach</td>\n",
       "      <td>As America's Un-carrier, T-Mobile US, Inc. (NA...</td>\n",
       "      <td>False</td>\n",
       "      <td>Atlanta, GA</td>\n",
       "      <td>NaN</td>\n",
       "      <td>356.0</td>\n",
       "      <td>United States of America</td>\n",
       "      <td>2016</td>\n",
       "      <td>1392</td>\n",
       "    </tr>\n",
       "    <tr>\n",
       "      <th>3</th>\n",
       "      <td>249164402</td>\n",
       "      <td>{'com.linkedin.voyager.deco.jobs.web.shared.We...</td>\n",
       "      <td>Data Scientist</td>\n",
       "      <td>Rational is a full service, integrated agency ...</td>\n",
       "      <td>False</td>\n",
       "      <td>Seattle, WA</td>\n",
       "      <td>NaN</td>\n",
       "      <td>242.0</td>\n",
       "      <td>United States of America</td>\n",
       "      <td>2016</td>\n",
       "      <td>805290</td>\n",
       "    </tr>\n",
       "    <tr>\n",
       "      <th>4</th>\n",
       "      <td>249164246</td>\n",
       "      <td>{'com.linkedin.voyager.deco.jobs.web.shared.We...</td>\n",
       "      <td>Data Analyst - Cisco expereince a must</td>\n",
       "      <td>Data Analyst - Finances &amp; Operations Raleigh, ...</td>\n",
       "      <td>False</td>\n",
       "      <td>Raleigh, NC</td>\n",
       "      <td>NaN</td>\n",
       "      <td>353.0</td>\n",
       "      <td>United States of America</td>\n",
       "      <td>2016</td>\n",
       "      <td>60921</td>\n",
       "    </tr>\n",
       "  </tbody>\n",
       "</table>\n",
       "</div>"
      ],
      "text/plain": [
       "   jobPostingId                                     companyDetails  \\\n",
       "0     114367533  {'com.linkedin.voyager.deco.jobs.web.shared.We...   \n",
       "1     249165572  {'com.linkedin.voyager.deco.jobs.web.shared.We...   \n",
       "2     249164672  {'com.linkedin.voyager.deco.jobs.web.shared.We...   \n",
       "3     249164402  {'com.linkedin.voyager.deco.jobs.web.shared.We...   \n",
       "4     249164246  {'com.linkedin.voyager.deco.jobs.web.shared.We...   \n",
       "\n",
       "                                    title  \\\n",
       "0                     Front End Developer   \n",
       "1             Manager - Cost Data Analyst   \n",
       "2                   Sr Agile/DevOps Coach   \n",
       "3                          Data Scientist   \n",
       "4  Data Analyst - Cisco expereince a must   \n",
       "\n",
       "                                         description  workRemoteAllowed  \\\n",
       "0  This is your opportunity to join Australia's o...              False   \n",
       "1  Position Description\\n  Cognizant is seeking a...              False   \n",
       "2  As America's Un-carrier, T-Mobile US, Inc. (NA...              False   \n",
       "3  Rational is a full service, integrated agency ...              False   \n",
       "4  Data Analyst - Finances & Operations Raleigh, ...              False   \n",
       "\n",
       "               formattedLocation work_model  soc_code  \\\n",
       "0  Hawthorn, Victoria, Australia        NaN     213.0   \n",
       "1    Bengaluru, Karnataka, India        NaN     213.0   \n",
       "2                    Atlanta, GA        NaN     356.0   \n",
       "3                    Seattle, WA        NaN     242.0   \n",
       "4                    Raleigh, NC        NaN     353.0   \n",
       "\n",
       "                    country  year Company ID  \n",
       "0                 Australia  2016    2692410  \n",
       "1                     India  2016       1680  \n",
       "2  United States of America  2016       1392  \n",
       "3  United States of America  2016     805290  \n",
       "4  United States of America  2016      60921  "
      ]
     },
     "execution_count": 36,
     "metadata": {},
     "output_type": "execute_result"
    }
   ],
   "source": [
    "df['Company ID'] = df['companyDetails'].apply(lambda x: extract_company_info(x))\n",
    "df.head()"
   ]
  },
  {
   "cell_type": "code",
   "execution_count": 37,
   "id": "96ed72ff-c580-4058-97fa-87ee3af76f2d",
   "metadata": {},
   "outputs": [
    {
     "name": "stdout",
     "output_type": "stream",
     "text": [
      "61098\n"
     ]
    }
   ],
   "source": [
    "print(len(df))"
   ]
  },
  {
   "cell_type": "code",
   "execution_count": 58,
   "id": "fc546114-af3a-4daf-8296-f8706dfdd647",
   "metadata": {
    "scrolled": true
   },
   "outputs": [
    {
     "name": "stdout",
     "output_type": "stream",
     "text": [
      "industries_0.csv\n",
      "industries_1.csv\n",
      "industries_2.csv\n",
      "industries_3.csv\n",
      "industries_4.csv\n",
      "industries_5.csv\n",
      "industries_6.csv\n",
      "industries_7.csv\n",
      "industries_8.csv\n",
      "8459\n"
     ]
    },
    {
     "data": {
      "text/html": [
       "<div>\n",
       "<style scoped>\n",
       "    .dataframe tbody tr th:only-of-type {\n",
       "        vertical-align: middle;\n",
       "    }\n",
       "\n",
       "    .dataframe tbody tr th {\n",
       "        vertical-align: top;\n",
       "    }\n",
       "\n",
       "    .dataframe thead th {\n",
       "        text-align: right;\n",
       "    }\n",
       "</style>\n",
       "<table border=\"1\" class=\"dataframe\">\n",
       "  <thead>\n",
       "    <tr style=\"text-align: right;\">\n",
       "      <th></th>\n",
       "      <th>Company ID</th>\n",
       "      <th>Industry</th>\n",
       "    </tr>\n",
       "  </thead>\n",
       "  <tbody>\n",
       "    <tr>\n",
       "      <th>0</th>\n",
       "      <td>2692410</td>\n",
       "      <td>Software Development</td>\n",
       "    </tr>\n",
       "    <tr>\n",
       "      <th>1</th>\n",
       "      <td>3075405</td>\n",
       "      <td>Software Development</td>\n",
       "    </tr>\n",
       "    <tr>\n",
       "      <th>2</th>\n",
       "      <td>3065197</td>\n",
       "      <td>Food and Beverage Manufacturing</td>\n",
       "    </tr>\n",
       "    <tr>\n",
       "      <th>3</th>\n",
       "      <td>13181517</td>\n",
       "      <td>Real Estate</td>\n",
       "    </tr>\n",
       "    <tr>\n",
       "      <th>4</th>\n",
       "      <td>468174</td>\n",
       "      <td>IT Services and IT Consulting</td>\n",
       "    </tr>\n",
       "  </tbody>\n",
       "</table>\n",
       "</div>"
      ],
      "text/plain": [
       "  Company ID                         Industry\n",
       "0    2692410             Software Development\n",
       "1    3075405             Software Development\n",
       "2    3065197  Food and Beverage Manufacturing\n",
       "3   13181517                      Real Estate\n",
       "4     468174    IT Services and IT Consulting"
      ]
     },
     "execution_count": 58,
     "metadata": {},
     "output_type": "execute_result"
    }
   ],
   "source": [
    "industry_dataframes = []\n",
    "# Read all files in the directory\n",
    "for file_name in os.listdir(dir_industries):\n",
    "    if file_name.startswith('industries_') and not file_name.startswith('industries_not'): \n",
    "        print(file_name)\n",
    "        file_path = os.path.join(dir_industries, file_name)\n",
    "        tmp_df = pd.read_csv(file_path, usecols = ['Company ID', 'Industry'])\n",
    "        tmp_df = tmp_df[(tmp_df['Industry'] != \"not found\") | (tmp_df['Industry'] != \"Industry Not Found\")]\n",
    "        industry_dataframes.append(tmp_df)\n",
    "industry_df = pd.concat(industry_dataframes)\n",
    "print(len(industry_df))\n",
    "industry_df.head()"
   ]
  },
  {
   "cell_type": "code",
   "execution_count": 59,
   "id": "51da9df9-2f29-4a9a-b8a3-d5a8c2ca6f02",
   "metadata": {},
   "outputs": [
    {
     "name": "stdout",
     "output_type": "stream",
     "text": [
      "8447\n"
     ]
    },
    {
     "data": {
      "text/html": [
       "<div>\n",
       "<style scoped>\n",
       "    .dataframe tbody tr th:only-of-type {\n",
       "        vertical-align: middle;\n",
       "    }\n",
       "\n",
       "    .dataframe tbody tr th {\n",
       "        vertical-align: top;\n",
       "    }\n",
       "\n",
       "    .dataframe thead th {\n",
       "        text-align: right;\n",
       "    }\n",
       "</style>\n",
       "<table border=\"1\" class=\"dataframe\">\n",
       "  <thead>\n",
       "    <tr style=\"text-align: right;\">\n",
       "      <th></th>\n",
       "      <th>Company ID</th>\n",
       "      <th>Industry</th>\n",
       "    </tr>\n",
       "  </thead>\n",
       "  <tbody>\n",
       "    <tr>\n",
       "      <th>0</th>\n",
       "      <td>2692410</td>\n",
       "      <td>software development</td>\n",
       "    </tr>\n",
       "    <tr>\n",
       "      <th>1</th>\n",
       "      <td>3075405</td>\n",
       "      <td>software development</td>\n",
       "    </tr>\n",
       "    <tr>\n",
       "      <th>2</th>\n",
       "      <td>3065197</td>\n",
       "      <td>food and beverage manufacturing</td>\n",
       "    </tr>\n",
       "    <tr>\n",
       "      <th>3</th>\n",
       "      <td>13181517</td>\n",
       "      <td>real estate</td>\n",
       "    </tr>\n",
       "    <tr>\n",
       "      <th>4</th>\n",
       "      <td>468174</td>\n",
       "      <td>it services and it consulting</td>\n",
       "    </tr>\n",
       "  </tbody>\n",
       "</table>\n",
       "</div>"
      ],
      "text/plain": [
       "  Company ID                         Industry\n",
       "0    2692410             software development\n",
       "1    3075405             software development\n",
       "2    3065197  food and beverage manufacturing\n",
       "3   13181517                      real estate\n",
       "4     468174    it services and it consulting"
      ]
     },
     "execution_count": 59,
     "metadata": {},
     "output_type": "execute_result"
    }
   ],
   "source": [
    "industry_df['Company ID'] = industry_df['Company ID'].apply(lambda x: str(x).strip().lower())\n",
    "industry_df['Industry'] = industry_df['Industry'].apply(lambda x: str(x).strip().lower())\n",
    "industry_df_no_dupes = industry_df.drop_duplicates(subset= ['Company ID', 'Industry'], keep='first', inplace=False).reset_index(drop=True)\n",
    "print(len(industry_df_no_dupes))\n",
    "industry_df_no_dupes.head()"
   ]
  },
  {
   "cell_type": "code",
   "execution_count": 60,
   "id": "ad5bd556-ef7b-4e93-ab92-73770150f327",
   "metadata": {},
   "outputs": [
    {
     "name": "stdout",
     "output_type": "stream",
     "text": [
      "8447\n"
     ]
    },
    {
     "data": {
      "text/html": [
       "<div>\n",
       "<style scoped>\n",
       "    .dataframe tbody tr th:only-of-type {\n",
       "        vertical-align: middle;\n",
       "    }\n",
       "\n",
       "    .dataframe tbody tr th {\n",
       "        vertical-align: top;\n",
       "    }\n",
       "\n",
       "    .dataframe thead th {\n",
       "        text-align: right;\n",
       "    }\n",
       "</style>\n",
       "<table border=\"1\" class=\"dataframe\">\n",
       "  <thead>\n",
       "    <tr style=\"text-align: right;\">\n",
       "      <th></th>\n",
       "      <th>Company ID</th>\n",
       "      <th>Industry</th>\n",
       "    </tr>\n",
       "  </thead>\n",
       "  <tbody>\n",
       "    <tr>\n",
       "      <th>0</th>\n",
       "      <td>2692410</td>\n",
       "      <td>software development</td>\n",
       "    </tr>\n",
       "    <tr>\n",
       "      <th>1</th>\n",
       "      <td>3075405</td>\n",
       "      <td>software development</td>\n",
       "    </tr>\n",
       "    <tr>\n",
       "      <th>2</th>\n",
       "      <td>3065197</td>\n",
       "      <td>food and beverage manufacturing</td>\n",
       "    </tr>\n",
       "    <tr>\n",
       "      <th>3</th>\n",
       "      <td>13181517</td>\n",
       "      <td>real estate</td>\n",
       "    </tr>\n",
       "    <tr>\n",
       "      <th>4</th>\n",
       "      <td>468174</td>\n",
       "      <td>it services and it consulting</td>\n",
       "    </tr>\n",
       "  </tbody>\n",
       "</table>\n",
       "</div>"
      ],
      "text/plain": [
       "  Company ID                         Industry\n",
       "0    2692410             software development\n",
       "1    3075405             software development\n",
       "2    3065197  food and beverage manufacturing\n",
       "3   13181517                      real estate\n",
       "4     468174    it services and it consulting"
      ]
     },
     "execution_count": 60,
     "metadata": {},
     "output_type": "execute_result"
    }
   ],
   "source": [
    "print(len(industry_df_no_dupes))\n",
    "industry_df_no_dupes.head()"
   ]
  },
  {
   "cell_type": "code",
   "execution_count": 61,
   "id": "b0e9980d-f334-4efc-97da-29a3a7ff69aa",
   "metadata": {},
   "outputs": [
    {
     "name": "stdout",
     "output_type": "stream",
     "text": [
      "4402\n"
     ]
    },
    {
     "data": {
      "text/html": [
       "<div>\n",
       "<style scoped>\n",
       "    .dataframe tbody tr th:only-of-type {\n",
       "        vertical-align: middle;\n",
       "    }\n",
       "\n",
       "    .dataframe tbody tr th {\n",
       "        vertical-align: top;\n",
       "    }\n",
       "\n",
       "    .dataframe thead th {\n",
       "        text-align: right;\n",
       "    }\n",
       "</style>\n",
       "<table border=\"1\" class=\"dataframe\">\n",
       "  <thead>\n",
       "    <tr style=\"text-align: right;\">\n",
       "      <th></th>\n",
       "      <th>Company ID</th>\n",
       "      <th>Industry</th>\n",
       "    </tr>\n",
       "  </thead>\n",
       "  <tbody>\n",
       "    <tr>\n",
       "      <th>0</th>\n",
       "      <td>2692410</td>\n",
       "      <td>software development</td>\n",
       "    </tr>\n",
       "    <tr>\n",
       "      <th>1</th>\n",
       "      <td>3075405</td>\n",
       "      <td>software development</td>\n",
       "    </tr>\n",
       "    <tr>\n",
       "      <th>2</th>\n",
       "      <td>3065197</td>\n",
       "      <td>food and beverage manufacturing</td>\n",
       "    </tr>\n",
       "    <tr>\n",
       "      <th>3</th>\n",
       "      <td>13181517</td>\n",
       "      <td>real estate</td>\n",
       "    </tr>\n",
       "    <tr>\n",
       "      <th>4</th>\n",
       "      <td>468174</td>\n",
       "      <td>it services and it consulting</td>\n",
       "    </tr>\n",
       "  </tbody>\n",
       "</table>\n",
       "</div>"
      ],
      "text/plain": [
       "  Company ID                         Industry\n",
       "0    2692410             software development\n",
       "1    3075405             software development\n",
       "2    3065197  food and beverage manufacturing\n",
       "3   13181517                      real estate\n",
       "4     468174    it services and it consulting"
      ]
     },
     "execution_count": 61,
     "metadata": {},
     "output_type": "execute_result"
    }
   ],
   "source": [
    "industry_df_no_dupes_valid_data = industry_df_no_dupes[industry_df_no_dupes['Industry'] != \"not found\"]\n",
    "industry_df_no_dupes_valid_data = industry_df_no_dupes_valid_data[industry_df_no_dupes_valid_data['Industry'] != \"industry not found\"]\n",
    "print(len(industry_df_no_dupes_valid_data))\n",
    "industry_df_no_dupes_valid_data.head()"
   ]
  },
  {
   "cell_type": "code",
   "execution_count": 62,
   "id": "46c73c48-6793-4770-8486-dee7aeeba3ff",
   "metadata": {},
   "outputs": [
    {
     "data": {
      "text/plain": [
       "(0, 0)"
      ]
     },
     "execution_count": 62,
     "metadata": {},
     "output_type": "execute_result"
    }
   ],
   "source": [
    "len(industry_df_no_dupes_valid_data[industry_df_no_dupes_valid_data['Industry'] == \"not found\"]), len(industry_df_no_dupes_valid_data[industry_df_no_dupes_valid_data['Industry'] == \"industry not found\"])"
   ]
  },
  {
   "cell_type": "code",
   "execution_count": 63,
   "id": "b5b3fbb1-7dd7-4643-bfd8-69889f538206",
   "metadata": {},
   "outputs": [
    {
     "data": {
      "text/plain": [
       "4402"
      ]
     },
     "execution_count": 63,
     "metadata": {},
     "output_type": "execute_result"
    }
   ],
   "source": [
    "industry_df_no_dupes_valid_data = industry_df_no_dupes_valid_data.drop_duplicates(subset= ['Company ID'], keep='last', inplace=False).reset_index(drop=True)\n",
    "len(industry_df_no_dupes_valid_data)"
   ]
  },
  {
   "cell_type": "code",
   "execution_count": 64,
   "id": "90299154-c995-416e-b504-3ad0416fb600",
   "metadata": {},
   "outputs": [
    {
     "data": {
      "text/plain": [
       "Company ID\n",
       "100027     1\n",
       "5038354    1\n",
       "5053115    1\n",
       "504840     1\n",
       "5048039    1\n",
       "          ..\n",
       "23155      1\n",
       "231711     1\n",
       "2318430    1\n",
       "2318649    1\n",
       "zillow     1\n",
       "Name: count, Length: 4402, dtype: int64"
      ]
     },
     "execution_count": 64,
     "metadata": {},
     "output_type": "execute_result"
    }
   ],
   "source": [
    "industry_df_no_dupes_valid_data['Company ID'].value_counts()"
   ]
  },
  {
   "cell_type": "code",
   "execution_count": 65,
   "id": "987d884e-8563-489b-a9b6-2551ee00559f",
   "metadata": {},
   "outputs": [],
   "source": [
    "industry_df_no_dupes_valid_data.to_csv(f\"{dir_industries}\\\\Industries and Codes\\\\industries_and_codes_batch_3.csv\", index=False)"
   ]
  },
  {
   "cell_type": "markdown",
   "id": "da8a318e-60fa-4a23-a304-a2486d5a8e77",
   "metadata": {},
   "source": [
    "## Joining Code"
   ]
  },
  {
   "cell_type": "code",
   "execution_count": 67,
   "id": "11509963-6888-4a26-8cad-ec395d0b330b",
   "metadata": {
    "scrolled": true
   },
   "outputs": [
    {
     "name": "stdout",
     "output_type": "stream",
     "text": [
      "66506\n",
      "Company ID  Industry                     \n",
      "1000        entertainment providers          1\n",
      "5039143     financial services               1\n",
      "503544      biotechnology research           1\n",
      "503560      advertising services             1\n",
      "5035753     it services and it consulting    1\n",
      "                                            ..\n",
      "21405       software development             1\n",
      "2140522     human resources services         1\n",
      "21407       biotechnology research           1\n",
      "214071      staffing and recruiting          1\n",
      "zype        financial services               1\n",
      "Name: count, Length: 66505, dtype: int64\n"
     ]
    },
    {
     "data": {
      "text/html": [
       "<div>\n",
       "<style scoped>\n",
       "    .dataframe tbody tr th:only-of-type {\n",
       "        vertical-align: middle;\n",
       "    }\n",
       "\n",
       "    .dataframe tbody tr th {\n",
       "        vertical-align: top;\n",
       "    }\n",
       "\n",
       "    .dataframe thead th {\n",
       "        text-align: right;\n",
       "    }\n",
       "</style>\n",
       "<table border=\"1\" class=\"dataframe\">\n",
       "  <thead>\n",
       "    <tr style=\"text-align: right;\">\n",
       "      <th></th>\n",
       "      <th>Company ID</th>\n",
       "      <th>Industry</th>\n",
       "    </tr>\n",
       "  </thead>\n",
       "  <tbody>\n",
       "    <tr>\n",
       "      <th>0</th>\n",
       "      <td>29023961</td>\n",
       "      <td>it services and it consulting</td>\n",
       "    </tr>\n",
       "    <tr>\n",
       "      <th>1</th>\n",
       "      <td>1313464</td>\n",
       "      <td>staffing and recruiting</td>\n",
       "    </tr>\n",
       "    <tr>\n",
       "      <th>2</th>\n",
       "      <td>223447</td>\n",
       "      <td>software development</td>\n",
       "    </tr>\n",
       "    <tr>\n",
       "      <th>3</th>\n",
       "      <td>67539665</td>\n",
       "      <td>software development</td>\n",
       "    </tr>\n",
       "    <tr>\n",
       "      <th>4</th>\n",
       "      <td>2388</td>\n",
       "      <td>financial services</td>\n",
       "    </tr>\n",
       "  </tbody>\n",
       "</table>\n",
       "</div>"
      ],
      "text/plain": [
       "  Company ID                       Industry\n",
       "0   29023961  it services and it consulting\n",
       "1    1313464        staffing and recruiting\n",
       "2     223447           software development\n",
       "3   67539665           software development\n",
       "4       2388             financial services"
      ]
     },
     "execution_count": 67,
     "metadata": {},
     "output_type": "execute_result"
    }
   ],
   "source": [
    "industry_df_1 = pd.read_csv(os.path.join(dir_industries, 'Industries and Codes', 'industries_and_codes.csv'))\n",
    "industry_df_2 = pd.read_csv(os.path.join(dir_industries, 'Industries and Codes', 'industries_and_codes_batch_2.csv'))\n",
    "industry_df_3 = pd.read_csv(os.path.join(dir_industries, 'Industries and Codes', 'industries_and_codes_batch_3.csv'))\n",
    "industry_df_no_dupes_valid_data = pd.concat([industry_df_1, industry_df_2, industry_df_3])\n",
    "industry_df_no_dupes_valid_data = industry_df_no_dupes_valid_data[['Company ID', 'Industry']]\n",
    "industry_df_no_dupes_valid_data = industry_df_no_dupes_valid_data.drop_duplicates(subset= ['Company ID', 'Industry'], keep='first', inplace=False).reset_index(drop=True)\n",
    "print(len(industry_df_no_dupes_valid_data))\n",
    "print(industry_df_no_dupes_valid_data.value_counts())\n",
    "industry_df_no_dupes_valid_data.head()"
   ]
  },
  {
   "cell_type": "code",
   "execution_count": 68,
   "id": "3f7fd474-b8fb-4fc7-a508-90744e8fde20",
   "metadata": {},
   "outputs": [
    {
     "name": "stdout",
     "output_type": "stream",
     "text": [
      "61098\n"
     ]
    },
    {
     "data": {
      "text/html": [
       "<div>\n",
       "<style scoped>\n",
       "    .dataframe tbody tr th:only-of-type {\n",
       "        vertical-align: middle;\n",
       "    }\n",
       "\n",
       "    .dataframe tbody tr th {\n",
       "        vertical-align: top;\n",
       "    }\n",
       "\n",
       "    .dataframe thead th {\n",
       "        text-align: right;\n",
       "    }\n",
       "</style>\n",
       "<table border=\"1\" class=\"dataframe\">\n",
       "  <thead>\n",
       "    <tr style=\"text-align: right;\">\n",
       "      <th></th>\n",
       "      <th>jobPostingId</th>\n",
       "      <th>companyDetails</th>\n",
       "      <th>title</th>\n",
       "      <th>description</th>\n",
       "      <th>workRemoteAllowed</th>\n",
       "      <th>formattedLocation</th>\n",
       "      <th>work_model</th>\n",
       "      <th>soc_code</th>\n",
       "      <th>country</th>\n",
       "      <th>year</th>\n",
       "      <th>Company ID</th>\n",
       "      <th>Industry</th>\n",
       "    </tr>\n",
       "  </thead>\n",
       "  <tbody>\n",
       "    <tr>\n",
       "      <th>0</th>\n",
       "      <td>114367533</td>\n",
       "      <td>{'com.linkedin.voyager.deco.jobs.web.shared.We...</td>\n",
       "      <td>Front End Developer</td>\n",
       "      <td>This is your opportunity to join Australia's o...</td>\n",
       "      <td>False</td>\n",
       "      <td>Hawthorn, Victoria, Australia</td>\n",
       "      <td>NaN</td>\n",
       "      <td>213.0</td>\n",
       "      <td>Australia</td>\n",
       "      <td>2016</td>\n",
       "      <td>2692410</td>\n",
       "      <td>software development</td>\n",
       "    </tr>\n",
       "    <tr>\n",
       "      <th>1</th>\n",
       "      <td>249165572</td>\n",
       "      <td>{'com.linkedin.voyager.deco.jobs.web.shared.We...</td>\n",
       "      <td>Manager - Cost Data Analyst</td>\n",
       "      <td>Position Description\\n  Cognizant is seeking a...</td>\n",
       "      <td>False</td>\n",
       "      <td>Bengaluru, Karnataka, India</td>\n",
       "      <td>NaN</td>\n",
       "      <td>213.0</td>\n",
       "      <td>India</td>\n",
       "      <td>2016</td>\n",
       "      <td>1680</td>\n",
       "      <td>it services and it consulting</td>\n",
       "    </tr>\n",
       "    <tr>\n",
       "      <th>2</th>\n",
       "      <td>249164672</td>\n",
       "      <td>{'com.linkedin.voyager.deco.jobs.web.shared.We...</td>\n",
       "      <td>Sr Agile/DevOps Coach</td>\n",
       "      <td>As America's Un-carrier, T-Mobile US, Inc. (NA...</td>\n",
       "      <td>False</td>\n",
       "      <td>Atlanta, GA</td>\n",
       "      <td>NaN</td>\n",
       "      <td>356.0</td>\n",
       "      <td>United States of America</td>\n",
       "      <td>2016</td>\n",
       "      <td>1392</td>\n",
       "      <td>telecommunications</td>\n",
       "    </tr>\n",
       "    <tr>\n",
       "      <th>3</th>\n",
       "      <td>249164402</td>\n",
       "      <td>{'com.linkedin.voyager.deco.jobs.web.shared.We...</td>\n",
       "      <td>Data Scientist</td>\n",
       "      <td>Rational is a full service, integrated agency ...</td>\n",
       "      <td>False</td>\n",
       "      <td>Seattle, WA</td>\n",
       "      <td>NaN</td>\n",
       "      <td>242.0</td>\n",
       "      <td>United States of America</td>\n",
       "      <td>2016</td>\n",
       "      <td>805290</td>\n",
       "      <td>advertising services</td>\n",
       "    </tr>\n",
       "    <tr>\n",
       "      <th>4</th>\n",
       "      <td>249164246</td>\n",
       "      <td>{'com.linkedin.voyager.deco.jobs.web.shared.We...</td>\n",
       "      <td>Data Analyst - Cisco expereince a must</td>\n",
       "      <td>Data Analyst - Finances &amp; Operations Raleigh, ...</td>\n",
       "      <td>False</td>\n",
       "      <td>Raleigh, NC</td>\n",
       "      <td>NaN</td>\n",
       "      <td>353.0</td>\n",
       "      <td>United States of America</td>\n",
       "      <td>2016</td>\n",
       "      <td>60921</td>\n",
       "      <td>it services and it consulting</td>\n",
       "    </tr>\n",
       "  </tbody>\n",
       "</table>\n",
       "</div>"
      ],
      "text/plain": [
       "   jobPostingId                                     companyDetails  \\\n",
       "0     114367533  {'com.linkedin.voyager.deco.jobs.web.shared.We...   \n",
       "1     249165572  {'com.linkedin.voyager.deco.jobs.web.shared.We...   \n",
       "2     249164672  {'com.linkedin.voyager.deco.jobs.web.shared.We...   \n",
       "3     249164402  {'com.linkedin.voyager.deco.jobs.web.shared.We...   \n",
       "4     249164246  {'com.linkedin.voyager.deco.jobs.web.shared.We...   \n",
       "\n",
       "                                    title  \\\n",
       "0                     Front End Developer   \n",
       "1             Manager - Cost Data Analyst   \n",
       "2                   Sr Agile/DevOps Coach   \n",
       "3                          Data Scientist   \n",
       "4  Data Analyst - Cisco expereince a must   \n",
       "\n",
       "                                         description  workRemoteAllowed  \\\n",
       "0  This is your opportunity to join Australia's o...              False   \n",
       "1  Position Description\\n  Cognizant is seeking a...              False   \n",
       "2  As America's Un-carrier, T-Mobile US, Inc. (NA...              False   \n",
       "3  Rational is a full service, integrated agency ...              False   \n",
       "4  Data Analyst - Finances & Operations Raleigh, ...              False   \n",
       "\n",
       "               formattedLocation work_model  soc_code  \\\n",
       "0  Hawthorn, Victoria, Australia        NaN     213.0   \n",
       "1    Bengaluru, Karnataka, India        NaN     213.0   \n",
       "2                    Atlanta, GA        NaN     356.0   \n",
       "3                    Seattle, WA        NaN     242.0   \n",
       "4                    Raleigh, NC        NaN     353.0   \n",
       "\n",
       "                    country  year Company ID                       Industry  \n",
       "0                 Australia  2016    2692410           software development  \n",
       "1                     India  2016       1680  it services and it consulting  \n",
       "2  United States of America  2016       1392             telecommunications  \n",
       "3  United States of America  2016     805290           advertising services  \n",
       "4  United States of America  2016      60921  it services and it consulting  "
      ]
     },
     "execution_count": 68,
     "metadata": {},
     "output_type": "execute_result"
    }
   ],
   "source": [
    "df_with_industries = df.merge(industry_df_no_dupes_valid_data, how='left', on='Company ID').drop('Unnamed: 0', axis=0)\n",
    "print(len(df_with_industries))\n",
    "df_with_industries.head()"
   ]
  },
  {
   "cell_type": "code",
   "execution_count": 69,
   "id": "e9ad6dee-a224-48e3-93f7-9aa5d58c0faa",
   "metadata": {},
   "outputs": [
    {
     "data": {
      "text/plain": [
       "Industry\n",
       "it services and it consulting          11569\n",
       "staffing and recruiting                 9767\n",
       "software development                    7169\n",
       "financial services                      2171\n",
       "business consulting and services        1523\n",
       "                                       ...  \n",
       "political organizations                    1\n",
       "animation and post-production              1\n",
       "museums                                    1\n",
       "leasing non-residential real estate        1\n",
       "physicians                                 1\n",
       "Name: count, Length: 162, dtype: int64"
      ]
     },
     "execution_count": 69,
     "metadata": {},
     "output_type": "execute_result"
    }
   ],
   "source": [
    "df_with_industries['Industry'].value_counts()"
   ]
  },
  {
   "cell_type": "code",
   "execution_count": 70,
   "id": "ccd979b4-c5a5-40d4-aae2-dc2d80dd90d2",
   "metadata": {},
   "outputs": [
    {
     "data": {
      "text/plain": [
       "year\n",
       "2016    9031\n",
       "2018    1172\n",
       "Name: count, dtype: int64"
      ]
     },
     "execution_count": 70,
     "metadata": {},
     "output_type": "execute_result"
    }
   ],
   "source": [
    "df_with_industries[df_with_industries[\"Industry\"].isnull()]['year'].value_counts()"
   ]
  },
  {
   "cell_type": "code",
   "execution_count": 71,
   "id": "42100d9a-5aac-42b2-8b1c-d64449766283",
   "metadata": {},
   "outputs": [
    {
     "data": {
      "text/html": [
       "<div>\n",
       "<style scoped>\n",
       "    .dataframe tbody tr th:only-of-type {\n",
       "        vertical-align: middle;\n",
       "    }\n",
       "\n",
       "    .dataframe tbody tr th {\n",
       "        vertical-align: top;\n",
       "    }\n",
       "\n",
       "    .dataframe thead th {\n",
       "        text-align: right;\n",
       "    }\n",
       "</style>\n",
       "<table border=\"1\" class=\"dataframe\">\n",
       "  <thead>\n",
       "    <tr style=\"text-align: right;\">\n",
       "      <th></th>\n",
       "      <th>Company ID</th>\n",
       "    </tr>\n",
       "  </thead>\n",
       "  <tbody>\n",
       "    <tr>\n",
       "      <th>19</th>\n",
       "      <td>1185607</td>\n",
       "    </tr>\n",
       "    <tr>\n",
       "      <th>29</th>\n",
       "      <td>17979372</td>\n",
       "    </tr>\n",
       "    <tr>\n",
       "      <th>40</th>\n",
       "      <td>825918</td>\n",
       "    </tr>\n",
       "    <tr>\n",
       "      <th>41</th>\n",
       "      <td>4843353</td>\n",
       "    </tr>\n",
       "    <tr>\n",
       "      <th>50</th>\n",
       "      <td>2821280</td>\n",
       "    </tr>\n",
       "  </tbody>\n",
       "</table>\n",
       "</div>"
      ],
      "text/plain": [
       "   Company ID\n",
       "19    1185607\n",
       "29   17979372\n",
       "40     825918\n",
       "41    4843353\n",
       "50    2821280"
      ]
     },
     "execution_count": 71,
     "metadata": {},
     "output_type": "execute_result"
    }
   ],
   "source": [
    "df_with_industries_not_found = df_with_industries[df_with_industries[\"Industry\"].isnull()]\n",
    "df_with_industries_not_found = df_with_industries_not_found[['Company ID']].drop_duplicates()\n",
    "df_with_industries_not_found.head()"
   ]
  },
  {
   "cell_type": "code",
   "execution_count": 72,
   "id": "5331ec3f-2845-40f8-9812-6b6d71290d0b",
   "metadata": {},
   "outputs": [
    {
     "data": {
      "text/plain": [
       "4318"
      ]
     },
     "execution_count": 72,
     "metadata": {},
     "output_type": "execute_result"
    }
   ],
   "source": [
    "len(df_with_industries_not_found)"
   ]
  },
  {
   "cell_type": "code",
   "execution_count": 29,
   "id": "79342759-5b45-49bc-b9d2-c68ea9f68a07",
   "metadata": {},
   "outputs": [],
   "source": [
    "# df_with_industries_not_found.to_csv(\"C:\\\\Users\\\\eshad\\\\OneDrive\\\\Desktop\\\\TU Delft\\\\Thesis\\\\Web Scrape PoC\\\\Data\\\\4. Filtered preprocessed data with industry\\\\industries_not_found_batch_3.csv\")"
   ]
  },
  {
   "cell_type": "markdown",
   "id": "746ce1a5-95b8-4ab8-8321-2a2bb2de0b89",
   "metadata": {},
   "source": [
    "## Saving Data"
   ]
  },
  {
   "cell_type": "code",
   "execution_count": 151,
   "id": "382d4780-3545-4504-85b3-9a74aa22f73f",
   "metadata": {},
   "outputs": [],
   "source": [
    "industry_df_no_dupes_valid_data.to_csv(\"C:\\\\Users\\\\eshad\\\\OneDrive\\\\Desktop\\\\TU Delft\\\\Thesis\\\\Web Scrape PoC\\\\Data\\\\4. Filtered preprocessed data with industry\\\\all_data_with_industries\\\\final_industry_list.csv\")"
   ]
  }
 ],
 "metadata": {
  "kernelspec": {
   "display_name": "Python 3 (ipykernel)",
   "language": "python",
   "name": "python3"
  },
  "language_info": {
   "codemirror_mode": {
    "name": "ipython",
    "version": 3
   },
   "file_extension": ".py",
   "mimetype": "text/x-python",
   "name": "python",
   "nbconvert_exporter": "python",
   "pygments_lexer": "ipython3",
   "version": "3.12.1"
  }
 },
 "nbformat": 4,
 "nbformat_minor": 5
}
