{
 "cells": [
  {
   "cell_type": "code",
   "execution_count": 1,
   "id": "a8838331-153b-42ec-927e-9a3aa86425b6",
   "metadata": {},
   "outputs": [],
   "source": [
    "from linkedin_api import Linkedin\n",
    "import pandas as pd\n",
    "import time\n",
    "import json"
   ]
  },
  {
   "cell_type": "code",
   "execution_count": 2,
   "id": "c9dd5a62-4424-42cb-93e8-67fb984597cb",
   "metadata": {},
   "outputs": [],
   "source": [
    "username = ''\n",
    "password = ''\n",
    "\n",
    "# Authenticate using any Linkedin user account credentials\n",
    "api = Linkedin(username, password)"
   ]
  },
  {
   "cell_type": "code",
   "execution_count": 4,
   "id": "baae8d6d-2882-48a6-91e4-5d13a58bead1",
   "metadata": {},
   "outputs": [],
   "source": [
    "input_dir = \"C:\\\\Users\\\\eshad\\\\OneDrive\\\\Desktop\\\\TU Delft\\\\Thesis\\\\Web Scrape PoC\\\\Data\\\\3. Filtered preprocessed data with country\\\\\"\n",
    "save_path_with_industry = \"C:\\\\Users\\\\eshad\\\\OneDrive\\\\Desktop\\\\TU Delft\\\\Thesis\\\\Web Scrape PoC\\\\Data\\\\4. Filtered preprocessed data with industry\\\\\""
   ]
  },
  {
   "cell_type": "code",
   "execution_count": 5,
   "id": "95751cb3-789e-480d-b127-c69b5c3ccb32",
   "metadata": {},
   "outputs": [
    {
     "data": {
      "text/plain": [
       "['2692410']"
      ]
     },
     "execution_count": 5,
     "metadata": {},
     "output_type": "execute_result"
    }
   ],
   "source": [
    "company_list = pd.read_csv(f\"{save_path_with_industry}industries_not_found_batch_3.csv\")\n",
    "company_list = list(company_list['Company ID'])\n",
    "company_list[:1]"
   ]
  },
  {
   "cell_type": "code",
   "execution_count": 6,
   "id": "c98dad0d-423a-41d3-8aa0-335aa2040cd2",
   "metadata": {},
   "outputs": [
    {
     "data": {
      "text/plain": [
       "8459"
      ]
     },
     "execution_count": 6,
     "metadata": {},
     "output_type": "execute_result"
    }
   ],
   "source": [
    "len(company_list)"
   ]
  },
  {
   "cell_type": "code",
   "execution_count": 7,
   "id": "2a7e6ccc-ba1e-47d8-88a5-bce1293efc64",
   "metadata": {},
   "outputs": [
    {
     "data": {
      "text/plain": [
       "(1000, 9)"
      ]
     },
     "execution_count": 7,
     "metadata": {},
     "output_type": "execute_result"
    }
   ],
   "source": [
    "_chunks = [company_list[i:i + 1000] for i in range(0, len(company_list), 1000)]\n",
    "len(_chunks[0]), len(_chunks)"
   ]
  },
  {
   "cell_type": "code",
   "execution_count": 8,
   "id": "1db4af4f-8fdb-4847-b9e7-905c4e510956",
   "metadata": {},
   "outputs": [],
   "source": [
    "# Function to extract company ID and LinkedIn link\n",
    "def extract_company_info(company_detail):\n",
    "    try:\n",
    "        company_data = json.loads(company_detail.replace(\"'\", '\"'))\n",
    "        if 'com.linkedin.voyager.deco.jobs.web.shared.WebCompactJobPostingCompany' in company_data:\n",
    "            company_info = company_data['com.linkedin.voyager.deco.jobs.web.shared.WebCompactJobPostingCompany']\n",
    "        elif 'com.linkedin.voyager.jobs.JobPostingCompanyName' in company_data:\n",
    "            company_info = company_data['com.linkedin.voyager.jobs.JobPostingCompanyName']\n",
    "        # print(company_info['company'])\n",
    "        if 'company' in company_info:\n",
    "            company_id = company_info['company'].split(':')[-1]\n",
    "        elif 'companyResolutionResult' in company_info:\n",
    "            company_id = company_info['companyResolutionResult']['entityUrn'].split(':')[-1]\n",
    "        elif 'companyName' in company_info:\n",
    "            company_id = company_info['companyName']\n",
    "        return company_id\n",
    "    except (KeyError, ValueError, TypeError) as e:\n",
    "        return None, None"
   ]
  },
  {
   "cell_type": "code",
   "execution_count": 12,
   "id": "6ca583ef-0af5-4924-9cd2-6cd785178219",
   "metadata": {},
   "outputs": [
    {
     "name": "stdout",
     "output_type": "stream",
     "text": [
      "1\n",
      "2\n",
      "3\n",
      "4\n",
      "5\n"
     ]
    }
   ],
   "source": [
    "for i in range(1,6):\n",
    "    print(i)\n",
    "    company_l = _chunks[i]\n",
    "    company_data = []\n",
    "    for l in company_l:\n",
    "        company_id = l\n",
    "        try:\n",
    "            company = api.get_company(company_id)\n",
    "            industry = company['companyIndustries'][0]['localizedName']\n",
    "            company_data.append({\"Company ID\": company_id, \"Industry\": industry})\n",
    "        except:\n",
    "            company_data.append({\"Company ID\": company_id, \"Industry\": \"not found\"})\n",
    "    pd.DataFrame(company_data).to_csv(f\"{save_path_with_industry}industries_{i}.csv\")"
   ]
  },
  {
   "cell_type": "code",
   "execution_count": null,
   "id": "604f648d-c2f7-41fb-9c21-1c52172650e1",
   "metadata": {},
   "outputs": [],
   "source": []
  }
 ],
 "metadata": {
  "kernelspec": {
   "display_name": "Python 3 (ipykernel)",
   "language": "python",
   "name": "python3"
  },
  "language_info": {
   "codemirror_mode": {
    "name": "ipython",
    "version": 3
   },
   "file_extension": ".py",
   "mimetype": "text/x-python",
   "name": "python",
   "nbconvert_exporter": "python",
   "pygments_lexer": "ipython3",
   "version": "3.12.1"
  }
 },
 "nbformat": 4,
 "nbformat_minor": 5
}
